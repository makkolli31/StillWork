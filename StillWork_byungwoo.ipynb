{
  "nbformat": 4,
  "nbformat_minor": 0,
  "metadata": {
    "colab": {
      "name": "StillWork.ipynb",
      "provenance": [],
      "machine_shape": "hm",
      "include_colab_link": true
    },
    "kernelspec": {
      "name": "python3",
      "display_name": "Python 3"
    }
  },
  "cells": [
    {
      "cell_type": "markdown",
      "metadata": {
        "id": "view-in-github",
        "colab_type": "text"
      },
      "source": [
        "<a href=\"https://colab.research.google.com/github/makkolli31/StillWork/blob/master/StillWork_byungwoo.ipynb\" target=\"_parent\"><img src=\"https://colab.research.google.com/assets/colab-badge.svg\" alt=\"Open In Colab\"/></a>"
      ]
    },
    {
      "cell_type": "code",
      "metadata": {
        "id": "yUP9HS6rM4he",
        "colab_type": "code",
        "colab": {
          "base_uri": "https://localhost:8080/",
          "height": 82
        },
        "outputId": "8a2de000-4b0d-4f34-9105-c9be253088fe"
      },
      "source": [
        "# univariate cnn example\n",
        "from numpy import array\n",
        "import keras\n",
        "from keras.models import Sequential\n",
        "from keras.layers import Dense\n",
        "from keras.layers import Flatten\n",
        "from keras.layers.convolutional import Conv1D\n",
        "from keras.layers.convolutional import MaxPooling1D\n",
        "from keras.layers import BatchNormalization\n",
        "import pandas as pd\n",
        "import numpy as np\n"
      ],
      "execution_count": 2,
      "outputs": [
        {
          "output_type": "stream",
          "text": [
            "Using TensorFlow backend.\n"
          ],
          "name": "stderr"
        },
        {
          "output_type": "display_data",
          "data": {
            "text/html": [
              "<p style=\"color: red;\">\n",
              "The default version of TensorFlow in Colab will soon switch to TensorFlow 2.x.<br>\n",
              "We recommend you <a href=\"https://www.tensorflow.org/guide/migrate\" target=\"_blank\">upgrade</a> now \n",
              "or ensure your notebook will continue to use TensorFlow 1.x via the <code>%tensorflow_version 1.x</code> magic:\n",
              "<a href=\"https://colab.research.google.com/notebooks/tensorflow_version.ipynb\" target=\"_blank\">more info</a>.</p>\n"
            ],
            "text/plain": [
              "<IPython.core.display.HTML object>"
            ]
          },
          "metadata": {
            "tags": []
          }
        }
      ]
    },
    {
      "cell_type": "code",
      "metadata": {
        "id": "z8Snp_345X9U",
        "colab_type": "code",
        "outputId": "06c61b0f-5c6c-49e1-fd0b-94eab62b287d",
        "colab": {
          "base_uri": "https://localhost:8080/",
          "height": 297
        }
      },
      "source": [
        "#col_names_new = ['RequestRPM', 'CurrentRPM','WaterFreq', 'vibX', 'vibY', 'vibZ', 'UB', 'QCurrent2', 'RinseStep']\n",
        "#df = pd.read_csv(\"/content/drive/My Drive/StillWork/V600_no01_1kgTowel_C3_HIGH_20190611_01_001.txt1_Extract.txt\", sep=' ', header=None)\n",
        "#df.columns = col_names_new\n",
        "path = '/content/drive/My Drive/StillWork/'\n",
        "df1 = pd.read_csv(path + \"1kgTowel_Extract.txt\", sep=' ')\n",
        "df2 = pd.read_csv(path + \"T셔츠_Extract.txt\", sep=' ')\n",
        "df3 = pd.read_csv(path + \"Y셔츠_Extract.txt\", sep=' ')\n",
        "df4 = pd.read_csv(path + \"동1타200_Extract.txt\", sep=' ')\n",
        "df5 = pd.read_csv(path + \"동잠바_Extract.txt\", sep=' ')\n",
        "df6 = pd.read_csv(path + \"실용2_Extract.txt\", sep=' ')\n",
        "df7 = pd.read_csv(path + \"실용3_Extract.txt\", sep=' ')\n",
        "df8 = pd.read_csv(path + \"실용4_Extract.txt\", sep=' ')\n",
        "df9 = pd.read_csv(path + \"청바지_Extract.txt\", sep=' ')\n",
        "df10 = pd.read_csv(path + \"청팬티_Extract.txt\", sep=' ')\n",
        "df11 = pd.read_csv(path + \"추잠바_Extract.txt\", sep=' ')\n",
        "df12 = pd.read_csv(path + \"타월2_Extract.txt\", sep=' ')\n",
        "df13 = pd.read_csv(path + \"타월3_Extract.txt\", sep=' ')\n",
        "df14 = pd.read_csv(path + \"타월4_Extract.txt\", sep=' ')\n",
        "df15 = pd.read_csv(path + \"후드티_Extract.txt\", sep=' ')\n",
        "\n",
        "df1 = df1.iloc[:df1.shape[0] - df1.shape[0] % 140]\n",
        "df2 = df2.iloc[:df2.shape[0] - df2.shape[0] % 140]\n",
        "df3 = df3.iloc[:df3.shape[0] - df3.shape[0] % 140]\n",
        "df4 = df4.iloc[:df4.shape[0] - df4.shape[0] % 140]\n",
        "df5 = df5.iloc[:df5.shape[0] - df5.shape[0] % 140]\n",
        "df6 = df6.iloc[:df6.shape[0] - df6.shape[0] % 140]\n",
        "df7 = df7.iloc[:df7.shape[0] - df7.shape[0] % 140]\n",
        "df8 = df8.iloc[:df8.shape[0] - df8.shape[0] % 140]\n",
        "df9 = df9.iloc[:df9.shape[0] - df9.shape[0] % 140]\n",
        "df10 = df10.iloc[:df10.shape[0] - df10.shape[0] % 140]\n",
        "df11 = df11.iloc[:df11.shape[0] - df11.shape[0] % 140]\n",
        "df12 = df12.iloc[:df12.shape[0] - df12.shape[0] % 140]\n",
        "df13 = df13.iloc[:df13.shape[0] - df13.shape[0] % 140]\n",
        "df14 = df14.iloc[:df14.shape[0] - df14.shape[0] % 140]\n",
        "df15 = df15.iloc[:df15.shape[0] - df15.shape[0] % 140]\n",
        "df_data = pd.concat([df1, df2, df3, df4, df5, df6, df7, df8, df9, df10, df11, df12, df13, df14, df15], axis=0)\n",
        "\n",
        "normalized_df=(df_data-df_data.mean())/df_data.std()\n",
        "\n",
        "#with pd.option_context('display.float_format', '{:0.2f}'.format):\n",
        "normalized_df.describe()"
      ],
      "execution_count": 3,
      "outputs": [
        {
          "output_type": "execute_result",
          "data": {
            "text/html": [
              "<div>\n",
              "<style scoped>\n",
              "    .dataframe tbody tr th:only-of-type {\n",
              "        vertical-align: middle;\n",
              "    }\n",
              "\n",
              "    .dataframe tbody tr th {\n",
              "        vertical-align: top;\n",
              "    }\n",
              "\n",
              "    .dataframe thead th {\n",
              "        text-align: right;\n",
              "    }\n",
              "</style>\n",
              "<table border=\"1\" class=\"dataframe\">\n",
              "  <thead>\n",
              "    <tr style=\"text-align: right;\">\n",
              "      <th></th>\n",
              "      <th>RequestRPM</th>\n",
              "      <th>CurrentRPM</th>\n",
              "      <th>WaterFreq</th>\n",
              "      <th>vibX</th>\n",
              "      <th>vibY</th>\n",
              "      <th>vibZ</th>\n",
              "      <th>UB</th>\n",
              "      <th>QCurrent2</th>\n",
              "      <th>RinseStep</th>\n",
              "    </tr>\n",
              "  </thead>\n",
              "  <tbody>\n",
              "    <tr>\n",
              "      <th>count</th>\n",
              "      <td>1.181572e+07</td>\n",
              "      <td>1.181572e+07</td>\n",
              "      <td>1.181572e+07</td>\n",
              "      <td>1.181572e+07</td>\n",
              "      <td>1.181572e+07</td>\n",
              "      <td>1.181572e+07</td>\n",
              "      <td>1.181572e+07</td>\n",
              "      <td>1.181572e+07</td>\n",
              "      <td>11815720.0</td>\n",
              "    </tr>\n",
              "    <tr>\n",
              "      <th>mean</th>\n",
              "      <td>-4.481405e-13</td>\n",
              "      <td>3.612324e-13</td>\n",
              "      <td>-1.264080e-12</td>\n",
              "      <td>5.530190e-14</td>\n",
              "      <td>-1.558708e-14</td>\n",
              "      <td>-2.640006e-14</td>\n",
              "      <td>1.833307e-13</td>\n",
              "      <td>-3.421613e-15</td>\n",
              "      <td>0.0</td>\n",
              "    </tr>\n",
              "    <tr>\n",
              "      <th>std</th>\n",
              "      <td>1.000000e+00</td>\n",
              "      <td>1.000000e+00</td>\n",
              "      <td>1.000000e+00</td>\n",
              "      <td>1.000000e+00</td>\n",
              "      <td>1.000000e+00</td>\n",
              "      <td>1.000000e+00</td>\n",
              "      <td>1.000000e+00</td>\n",
              "      <td>1.000000e+00</td>\n",
              "      <td>0.0</td>\n",
              "    </tr>\n",
              "    <tr>\n",
              "      <th>min</th>\n",
              "      <td>-2.539603e+00</td>\n",
              "      <td>-3.680794e+00</td>\n",
              "      <td>-2.588347e+01</td>\n",
              "      <td>-1.314603e+00</td>\n",
              "      <td>-7.503958e-01</td>\n",
              "      <td>-6.187477e-01</td>\n",
              "      <td>-6.328122e-01</td>\n",
              "      <td>-1.908177e+00</td>\n",
              "      <td>0.0</td>\n",
              "    </tr>\n",
              "    <tr>\n",
              "      <th>25%</th>\n",
              "      <td>-2.272483e-02</td>\n",
              "      <td>-6.036572e-02</td>\n",
              "      <td>-2.849066e-01</td>\n",
              "      <td>-6.314166e-01</td>\n",
              "      <td>-4.132257e-01</td>\n",
              "      <td>-3.143370e-01</td>\n",
              "      <td>-4.616765e-01</td>\n",
              "      <td>-7.063041e-01</td>\n",
              "      <td>0.0</td>\n",
              "    </tr>\n",
              "    <tr>\n",
              "      <th>50%</th>\n",
              "      <td>-2.272483e-02</td>\n",
              "      <td>1.922223e-01</td>\n",
              "      <td>5.044567e-02</td>\n",
              "      <td>-2.789793e-01</td>\n",
              "      <td>-2.764379e-01</td>\n",
              "      <td>-1.982362e-01</td>\n",
              "      <td>-3.437830e-01</td>\n",
              "      <td>-1.940015e-01</td>\n",
              "      <td>0.0</td>\n",
              "    </tr>\n",
              "    <tr>\n",
              "      <th>75%</th>\n",
              "      <td>-2.272483e-02</td>\n",
              "      <td>3.606143e-01</td>\n",
              "      <td>2.740139e-01</td>\n",
              "      <td>2.903424e-01</td>\n",
              "      <td>-3.165962e-02</td>\n",
              "      <td>1.400501e-03</td>\n",
              "      <td>-1.022915e-01</td>\n",
              "      <td>5.239311e-01</td>\n",
              "      <td>0.0</td>\n",
              "    </tr>\n",
              "    <tr>\n",
              "      <th>max</th>\n",
              "      <td>6.824759e+01</td>\n",
              "      <td>3.698588e+01</td>\n",
              "      <td>1.727207e+00</td>\n",
              "      <td>3.340318e+01</td>\n",
              "      <td>1.992737e+01</td>\n",
              "      <td>2.755410e+01</td>\n",
              "      <td>5.499389e+01</td>\n",
              "      <td>2.033178e+01</td>\n",
              "      <td>0.0</td>\n",
              "    </tr>\n",
              "  </tbody>\n",
              "</table>\n",
              "</div>"
            ],
            "text/plain": [
              "         RequestRPM    CurrentRPM  ...     QCurrent2   RinseStep\n",
              "count  1.181572e+07  1.181572e+07  ...  1.181572e+07  11815720.0\n",
              "mean  -4.481405e-13  3.612324e-13  ... -3.421613e-15         0.0\n",
              "std    1.000000e+00  1.000000e+00  ...  1.000000e+00         0.0\n",
              "min   -2.539603e+00 -3.680794e+00  ... -1.908177e+00         0.0\n",
              "25%   -2.272483e-02 -6.036572e-02  ... -7.063041e-01         0.0\n",
              "50%   -2.272483e-02  1.922223e-01  ... -1.940015e-01         0.0\n",
              "75%   -2.272483e-02  3.606143e-01  ...  5.239311e-01         0.0\n",
              "max    6.824759e+01  3.698588e+01  ...  2.033178e+01         0.0\n",
              "\n",
              "[8 rows x 9 columns]"
            ]
          },
          "metadata": {
            "tags": []
          },
          "execution_count": 3
        }
      ]
    },
    {
      "cell_type": "code",
      "metadata": {
        "id": "FOIPOwXY57ss",
        "colab_type": "code",
        "colab": {
          "base_uri": "https://localhost:8080/",
          "height": 35
        },
        "outputId": "7fd24941-fe26-4260-8a4d-88b869671a35"
      },
      "source": [
        "from google.colab import drive\n",
        "drive.mount('/content/drive')"
      ],
      "execution_count": 4,
      "outputs": [
        {
          "output_type": "stream",
          "text": [
            "Drive already mounted at /content/drive; to attempt to forcibly remount, call drive.mount(\"/content/drive\", force_remount=True).\n"
          ],
          "name": "stdout"
        }
      ]
    },
    {
      "cell_type": "code",
      "metadata": {
        "id": "opLWjgrs5tiV",
        "colab_type": "code",
        "outputId": "06f33ca8-00d0-4f96-83c9-451f39654f1e",
        "colab": {
          "base_uri": "https://localhost:8080/",
          "height": 53
        }
      },
      "source": [
        "features = ['CurrentRPM', 'UB', 'WaterFreq', 'QCurrent2']\n",
        "X_all = normalized_df[features].values\n",
        "X1 = df1[features].values\n",
        "X2 = df2[features].values\n",
        "X3 = df3[features].values\n",
        "X4 = df4[features].values\n",
        "X5 = df5[features].values\n",
        "X6 = df6[features].values\n",
        "X7 = df7[features].values\n",
        "X8 = df8[features].values\n",
        "X9 = df9[features].values\n",
        "X10 = df10[features].values\n",
        "X11 = df11[features].values\n",
        "X12 = df12[features].values\n",
        "X13 = df13[features].values\n",
        "X14 = df14[features].values\n",
        "X15 = df15[features].values\n",
        "\n",
        "print(X_all.shape)\n",
        "print(X1.shape[0] + X2.shape[0] + X3.shape[0] + X4.shape[0] + X5.shape[0] + X6.shape[0] + X7.shape[0] + X8.shape[0] + X9.shape[0] + X10.shape[0] + X11.shape[0] + X12.shape[0] + X13.shape[0] + X14.shape[0] + X15.shape[0])"
      ],
      "execution_count": 5,
      "outputs": [
        {
          "output_type": "stream",
          "text": [
            "(11815720, 4)\n",
            "11815720\n"
          ],
          "name": "stdout"
        }
      ]
    },
    {
      "cell_type": "code",
      "metadata": {
        "id": "tKouFxnDlG0v",
        "colab_type": "code",
        "colab": {}
      },
      "source": [
        "def split_sequences(sequences, n_steps_in, n_steps_out):\n",
        "  X, y = list(), list()\n",
        "  for i in range(0,len(sequences), n_steps_in):\n",
        "    # find the end of this pattern\n",
        "    end_ix = i + n_steps_in\n",
        "    out_end_ix = end_ix + n_steps_out\n",
        "    # check if we are beyond the dataset\n",
        "    if end_ix > len(sequences):\n",
        "        print(end_ix, len(sequences))\n",
        "        break\n",
        "    # gather input and output parts of the pattern\n",
        "    seq_x, seq_y = sequences[i:end_ix, :], sequences[end_ix:end_ix, :]\n",
        "    X.append(seq_x)\n",
        "    y.append(seq_y)\n",
        "  return array(X), array(y)"
      ],
      "execution_count": 0,
      "outputs": []
    },
    {
      "cell_type": "code",
      "metadata": {
        "id": "iyKmoMKQATZY",
        "colab_type": "code",
        "outputId": "b912c87a-0faf-48b2-965b-e2be3865bfb1",
        "colab": {
          "base_uri": "https://localhost:8080/",
          "height": 35
        }
      },
      "source": [
        "X1_data, _ = split_sequences(X1, 140, 1)\n",
        "X2_data, _ = split_sequences(X2, 140, 1)\n",
        "X3_data, _ = split_sequences(X3, 140, 1)\n",
        "X4_data, _ = split_sequences(X4, 140, 1)\n",
        "X5_data, _ = split_sequences(X5, 140, 1)\n",
        "X6_data, _ = split_sequences(X6, 140, 1)\n",
        "X7_data, _ = split_sequences(X7, 140, 1)\n",
        "X8_data, _ = split_sequences(X8, 140, 1)\n",
        "X9_data, _ = split_sequences(X9, 140, 1)\n",
        "X10_data, _ = split_sequences(X10, 140, 1)\n",
        "X11_data, _ = split_sequences(X11, 140, 1)\n",
        "X12_data, _ = split_sequences(X12, 140, 1)\n",
        "X13_data, _ = split_sequences(X13, 140, 1)\n",
        "X14_data, _ = split_sequences(X14, 140, 1)\n",
        "X15_data, _ = split_sequences(X15, 140, 1)\n",
        "\n",
        "# X_data2 = np.vstack((X1_data, X2_data, X3_data, X4_data, X5_data, X6_data, X7_data, X8_data, X9_data, X10_data, X11_data, X12_data, X13_data, X14_data, X15_data))\n",
        "X_data, _ = split_sequences(X_all, 140, 1)\n",
        "\n",
        "# print(X1.shape[0]/140, X1_data.shape[0])\n",
        "# print(X2.shape[0]/140, X2_data.shape[0])\n",
        "# print(X3.shape[0]/140, X3_data.shape[0])\n",
        "# print(X4.shape[0]/140, X4_data.shape[0])\n",
        "# print(X5.shape[0]/140, X5_data.shape[0])\n",
        "# print(X6.shape[0]/140, X6_data.shape[0])\n",
        "# print(X7.shape[0]/140, X7_data.shape[0])\n",
        "# print(X8.shape[0]/140, X8_data.shape[0])\n",
        "# print(X9.shape[0]/140, X9_data.shape[0])\n",
        "# print(X10.shape[0]/140, X10_data.shape[0])\n",
        "# print(X11.shape[0]/140, X11_data.shape[0])\n",
        "# print(X12.shape[0]/140, X12_data.shape[0])\n",
        "# print(X13.shape[0]/140, X13_data.shape[0])\n",
        "# print(X14.shape[0]/140, X14_data.shape[0])\n",
        "# print(X15.shape[0]/140, X15_data.shape[0])\n",
        "# print(X_data2.shape, X_data.shape)\n",
        "\n",
        "# y_all = np.tile([0, 0, 0, 0, 0, 0, 0, 0, 0, 0, 0, 0, 0, 0, 1], (X_data.shape[0],1))\n",
        "\n",
        "LABELS = ['1kgTowel', 'TShirts', 'YShirts', 'WinterT200', 'WinterJumper', 'Real2', 'Real3', 'Real4', 'Jean', 'Jeanpants', 'FallJumper', 'Towel2', 'Towel3', 'Towel4', 'Hood']\n",
        "\n",
        "y1 = np.tile([0, 0, 0, 0, 0, 0, 0, 0, 0, 0, 0, 0, 0, 0, 1], (X1_data.shape[0],1))\n",
        "y2 = np.tile([0, 0, 0, 0, 0, 0, 0, 0, 0, 0, 0, 0, 0, 1, 0], (X2_data.shape[0],1))\n",
        "y3 = np.tile([0, 0, 0, 0, 0, 0, 0, 0, 0, 0, 0, 0, 1, 0, 0], (X3_data.shape[0],1))\n",
        "y4 = np.tile([0, 0, 0, 0, 0, 0, 0, 0, 0, 0, 0, 1, 0, 0, 0], (X4_data.shape[0],1))\n",
        "y5 = np.tile([0, 0, 0, 0, 0, 0, 0, 0, 0, 0, 1, 0, 0, 0, 0], (X5_data.shape[0],1))\n",
        "y6 = np.tile([0, 0, 0, 0, 0, 0, 0, 0, 0, 1, 0, 0, 0, 0, 0], (X6_data.shape[0],1))\n",
        "y7 = np.tile([0, 0, 0, 0, 0, 0, 0, 0, 1, 0, 0, 0, 0, 0, 0], (X7_data.shape[0],1))\n",
        "y8 = np.tile([0, 0, 0, 0, 0, 0, 0, 1, 0, 0, 0, 0, 0, 0, 0], (X8_data.shape[0],1))\n",
        "y9 = np.tile([0, 0, 0, 0, 0, 0, 1, 0, 0, 0, 0, 0, 0, 0, 0], (X9_data.shape[0],1))\n",
        "y10 = np.tile([0, 0, 0, 0, 0, 1, 0, 0, 0, 0, 0, 0, 0, 0, 0], (X10_data.shape[0],1))\n",
        "y11 = np.tile([0, 0, 0, 0, 1, 0, 0, 0, 0, 0, 0, 0, 0, 0, 0], (X11_data.shape[0],1))\n",
        "y12 = np.tile([0, 0, 0, 1, 0, 0, 0, 0, 0, 0, 0, 0, 0, 0, 0], (X12_data.shape[0],1))\n",
        "y13 = np.tile([0, 0, 1, 0, 0, 0, 0, 0, 0, 0, 0, 0, 0, 0, 0], (X13_data.shape[0],1))\n",
        "y14 = np.tile([0, 1, 0, 0, 0, 0, 0, 0, 0, 0, 0, 0, 0, 0, 0], (X14_data.shape[0],1))\n",
        "y15 = np.tile([1, 0, 0, 0, 0, 0, 0, 0, 0, 0, 0, 0, 0, 0, 0], (X15_data.shape[0],1))\n",
        "y = np.vstack((y1, y2, y3, y4, y5, y6, y7, y8, y9, y10, y11, y12, y13, y14, y15))\n",
        "\n",
        "import seaborn as sns\n",
        "from sklearn import metrics\n",
        "from sklearn.metrics import classification_report\n",
        "from sklearn.model_selection import train_test_split, GridSearchCV, cross_val_score \n",
        "from sklearn.preprocessing import StandardScaler\n",
        "from matplotlib import pyplot as plt\n",
        "%matplotlib inline\n",
        "\n",
        "# scaler = StandardScaler()\n",
        "# scaler.fit(X_data)\n",
        "# X_sc = scaler.transform(X_data)\n",
        "# np.mean(X_sc), np.std(X_sc)\n",
        "\n",
        "# scalers = {}\n",
        "# X_sc = np.empty_like(X_data)\n",
        "# for i in range(X_data.shape[2]):\n",
        "#     scalers[i] = StandardScaler()\n",
        "#     X_sc[:, :, i] = scalers[i].fit_transform(X_data[:, :, i]) \n",
        "\n",
        "# for i in range(X_test.shape[1]):\n",
        "    # X_test[:, i, :] = scalers[i].transform(X_test[:, i, :]) \n",
        "\n",
        "\n",
        "X_train, X_test, y_train, y_test = train_test_split(X_data, y, test_size = 0.2)\n",
        "X_data.shape, y.shape"
      ],
      "execution_count": 7,
      "outputs": [
        {
          "output_type": "execute_result",
          "data": {
            "text/plain": [
              "((84398, 140, 4), (84398, 15))"
            ]
          },
          "metadata": {
            "tags": []
          },
          "execution_count": 7
        }
      ]
    },
    {
      "cell_type": "code",
      "metadata": {
        "id": "t5imATyp5OaO",
        "colab_type": "code",
        "outputId": "b3ab84f2-29ff-4648-ae46-01b56e414bff",
        "colab": {
          "base_uri": "https://localhost:8080/",
          "height": 773
        }
      },
      "source": [
        "# define model\n",
        "model = Sequential()\n",
        "model.add(Conv1D(32, 2, activation='relu', padding='same', input_shape=(X_data.shape[1], X_data.shape[2]))) \n",
        "model.add(MaxPooling1D(2))\n",
        "model.add(Conv1D(64, 2, activation='relu', padding='same'))\n",
        "model.add(MaxPooling1D(2))\n",
        "model.add(Conv1D(128, 2, activation='relu', padding='same'))\n",
        "model.add(MaxPooling1D(2))\n",
        "model.add(Conv1D(256, 2, activation='relu', padding='same'))\n",
        "model.add(MaxPooling1D(2))\n",
        "model.add(Flatten())\n",
        "model.add(Dense(100, activation='relu'))\n",
        "model.add(Dense(15, activation='softmax'))\n",
        "#model.compile(optimizer='adam', loss='mse')\n",
        "model.compile(loss='categorical_crossentropy',\n",
        "                optimizer='adam', metrics=['accuracy'])\n",
        "model.summary()"
      ],
      "execution_count": 8,
      "outputs": [
        {
          "output_type": "stream",
          "text": [
            "WARNING:tensorflow:From /usr/local/lib/python3.6/dist-packages/keras/backend/tensorflow_backend.py:66: The name tf.get_default_graph is deprecated. Please use tf.compat.v1.get_default_graph instead.\n",
            "\n",
            "WARNING:tensorflow:From /usr/local/lib/python3.6/dist-packages/keras/backend/tensorflow_backend.py:541: The name tf.placeholder is deprecated. Please use tf.compat.v1.placeholder instead.\n",
            "\n",
            "WARNING:tensorflow:From /usr/local/lib/python3.6/dist-packages/keras/backend/tensorflow_backend.py:4432: The name tf.random_uniform is deprecated. Please use tf.random.uniform instead.\n",
            "\n",
            "WARNING:tensorflow:From /usr/local/lib/python3.6/dist-packages/keras/backend/tensorflow_backend.py:4267: The name tf.nn.max_pool is deprecated. Please use tf.nn.max_pool2d instead.\n",
            "\n",
            "WARNING:tensorflow:From /usr/local/lib/python3.6/dist-packages/keras/optimizers.py:793: The name tf.train.Optimizer is deprecated. Please use tf.compat.v1.train.Optimizer instead.\n",
            "\n",
            "WARNING:tensorflow:From /usr/local/lib/python3.6/dist-packages/keras/backend/tensorflow_backend.py:3576: The name tf.log is deprecated. Please use tf.math.log instead.\n",
            "\n",
            "Model: \"sequential_1\"\n",
            "_________________________________________________________________\n",
            "Layer (type)                 Output Shape              Param #   \n",
            "=================================================================\n",
            "conv1d_1 (Conv1D)            (None, 140, 32)           288       \n",
            "_________________________________________________________________\n",
            "max_pooling1d_1 (MaxPooling1 (None, 70, 32)            0         \n",
            "_________________________________________________________________\n",
            "conv1d_2 (Conv1D)            (None, 70, 64)            4160      \n",
            "_________________________________________________________________\n",
            "max_pooling1d_2 (MaxPooling1 (None, 35, 64)            0         \n",
            "_________________________________________________________________\n",
            "conv1d_3 (Conv1D)            (None, 35, 128)           16512     \n",
            "_________________________________________________________________\n",
            "max_pooling1d_3 (MaxPooling1 (None, 17, 128)           0         \n",
            "_________________________________________________________________\n",
            "conv1d_4 (Conv1D)            (None, 17, 256)           65792     \n",
            "_________________________________________________________________\n",
            "max_pooling1d_4 (MaxPooling1 (None, 8, 256)            0         \n",
            "_________________________________________________________________\n",
            "flatten_1 (Flatten)          (None, 2048)              0         \n",
            "_________________________________________________________________\n",
            "dense_1 (Dense)              (None, 100)               204900    \n",
            "_________________________________________________________________\n",
            "dense_2 (Dense)              (None, 15)                1515      \n",
            "=================================================================\n",
            "Total params: 293,167\n",
            "Trainable params: 293,167\n",
            "Non-trainable params: 0\n",
            "_________________________________________________________________\n"
          ],
          "name": "stdout"
        }
      ]
    },
    {
      "cell_type": "code",
      "metadata": {
        "id": "XlHDsLpnA8vS",
        "colab_type": "code",
        "outputId": "05ab5976-f4d6-4762-a689-300e5fd8ca84",
        "colab": {
          "base_uri": "https://localhost:8080/",
          "height": 1000
        }
      },
      "source": [
        "callbacks_list = [\n",
        "    keras.callbacks.ModelCheckpoint(\n",
        "        filepath='best_model.{epoch:02d}-{val_loss:.2f}.h5',\n",
        "        monitor='val_loss', save_best_only=True),\n",
        "    keras.callbacks.EarlyStopping(monitor='val_acc', patience=3)\n",
        "]\n",
        "\n",
        "BATCH_SIZE = 100\n",
        "EPOCHS = 30\n",
        "\n",
        "history = model.fit(X_train,\n",
        "                      y_train,\n",
        "                      batch_size=BATCH_SIZE,\n",
        "                      epochs=EPOCHS,\n",
        "                      callbacks=callbacks_list,\n",
        "                      validation_split=0.2,\n",
        "                      verbose=1)\n",
        "\n",
        "_, accuracy = model.evaluate(X_test, y_test, batch_size=BATCH_SIZE, verbose=1)\n",
        "\n",
        "print(accuracy)\n",
        "# demonstrate prediction\n",
        "# x_input = array([70, 80, 90])\n",
        "# x_input = x_input.reshape((1, n_steps, n_features))\n",
        "# yhat = model.predict(x_input, verbose=0)\n",
        "# print(yhat)"
      ],
      "execution_count": 9,
      "outputs": [
        {
          "output_type": "stream",
          "text": [
            "WARNING:tensorflow:From /usr/local/lib/python3.6/dist-packages/tensorflow_core/python/ops/math_grad.py:1424: where (from tensorflow.python.ops.array_ops) is deprecated and will be removed in a future version.\n",
            "Instructions for updating:\n",
            "Use tf.where in 2.0, which has the same broadcast rule as np.where\n",
            "WARNING:tensorflow:From /usr/local/lib/python3.6/dist-packages/keras/backend/tensorflow_backend.py:1033: The name tf.assign_add is deprecated. Please use tf.compat.v1.assign_add instead.\n",
            "\n",
            "WARNING:tensorflow:From /usr/local/lib/python3.6/dist-packages/keras/backend/tensorflow_backend.py:1020: The name tf.assign is deprecated. Please use tf.compat.v1.assign instead.\n",
            "\n",
            "WARNING:tensorflow:From /usr/local/lib/python3.6/dist-packages/keras/backend/tensorflow_backend.py:3005: The name tf.Session is deprecated. Please use tf.compat.v1.Session instead.\n",
            "\n",
            "Train on 54014 samples, validate on 13504 samples\n",
            "Epoch 1/30\n",
            "WARNING:tensorflow:From /usr/local/lib/python3.6/dist-packages/keras/backend/tensorflow_backend.py:190: The name tf.get_default_session is deprecated. Please use tf.compat.v1.get_default_session instead.\n",
            "\n",
            "WARNING:tensorflow:From /usr/local/lib/python3.6/dist-packages/keras/backend/tensorflow_backend.py:197: The name tf.ConfigProto is deprecated. Please use tf.compat.v1.ConfigProto instead.\n",
            "\n",
            "WARNING:tensorflow:From /usr/local/lib/python3.6/dist-packages/keras/backend/tensorflow_backend.py:207: The name tf.global_variables is deprecated. Please use tf.compat.v1.global_variables instead.\n",
            "\n",
            "WARNING:tensorflow:From /usr/local/lib/python3.6/dist-packages/keras/backend/tensorflow_backend.py:216: The name tf.is_variable_initialized is deprecated. Please use tf.compat.v1.is_variable_initialized instead.\n",
            "\n",
            "WARNING:tensorflow:From /usr/local/lib/python3.6/dist-packages/keras/backend/tensorflow_backend.py:223: The name tf.variables_initializer is deprecated. Please use tf.compat.v1.variables_initializer instead.\n",
            "\n",
            "54014/54014 [==============================] - 24s 451us/step - loss: 1.0245 - acc: 0.6092 - val_loss: 0.7214 - val_acc: 0.7065\n",
            "Epoch 2/30\n",
            "54014/54014 [==============================] - 23s 418us/step - loss: 0.6069 - acc: 0.7720 - val_loss: 0.5173 - val_acc: 0.8069\n",
            "Epoch 3/30\n",
            "54014/54014 [==============================] - 23s 422us/step - loss: 0.4820 - acc: 0.8200 - val_loss: 0.5102 - val_acc: 0.8131\n",
            "Epoch 4/30\n",
            "54014/54014 [==============================] - 23s 426us/step - loss: 0.4087 - acc: 0.8480 - val_loss: 0.3868 - val_acc: 0.8594\n",
            "Epoch 5/30\n",
            "54014/54014 [==============================] - 23s 432us/step - loss: 0.3641 - acc: 0.8627 - val_loss: 0.3732 - val_acc: 0.8629\n",
            "Epoch 6/30\n",
            "54014/54014 [==============================] - 23s 429us/step - loss: 0.3291 - acc: 0.8763 - val_loss: 0.3981 - val_acc: 0.8443\n",
            "Epoch 7/30\n",
            "54014/54014 [==============================] - 22s 416us/step - loss: 0.3053 - acc: 0.8833 - val_loss: 0.3840 - val_acc: 0.8483\n",
            "Epoch 8/30\n",
            "54014/54014 [==============================] - 23s 417us/step - loss: 0.2755 - acc: 0.8934 - val_loss: 0.3243 - val_acc: 0.8810\n",
            "Epoch 9/30\n",
            "54014/54014 [==============================] - 23s 422us/step - loss: 0.2551 - acc: 0.9012 - val_loss: 0.3390 - val_acc: 0.8662\n",
            "Epoch 10/30\n",
            "54014/54014 [==============================] - 22s 413us/step - loss: 0.2428 - acc: 0.9069 - val_loss: 0.3071 - val_acc: 0.8837\n",
            "Epoch 11/30\n",
            "54014/54014 [==============================] - 22s 413us/step - loss: 0.2225 - acc: 0.9144 - val_loss: 0.3272 - val_acc: 0.8765\n",
            "Epoch 12/30\n",
            "54014/54014 [==============================] - 23s 418us/step - loss: 0.2095 - acc: 0.9193 - val_loss: 0.3237 - val_acc: 0.8837\n",
            "Epoch 13/30\n",
            "54014/54014 [==============================] - 22s 413us/step - loss: 0.1986 - acc: 0.9242 - val_loss: 0.2813 - val_acc: 0.8965\n",
            "Epoch 14/30\n",
            "54014/54014 [==============================] - 22s 415us/step - loss: 0.1832 - acc: 0.9292 - val_loss: 0.2723 - val_acc: 0.9019\n",
            "Epoch 15/30\n",
            "54014/54014 [==============================] - 23s 421us/step - loss: 0.1692 - acc: 0.9339 - val_loss: 0.2882 - val_acc: 0.8985\n",
            "Epoch 16/30\n",
            "54014/54014 [==============================] - 23s 424us/step - loss: 0.1608 - acc: 0.9380 - val_loss: 0.3315 - val_acc: 0.8886\n",
            "Epoch 17/30\n",
            "54014/54014 [==============================] - 23s 425us/step - loss: 0.1398 - acc: 0.9454 - val_loss: 0.3178 - val_acc: 0.8917\n",
            "16880/16880 [==============================] - 2s 123us/step\n",
            "0.8893364940491898\n"
          ],
          "name": "stdout"
        }
      ]
    },
    {
      "cell_type": "code",
      "metadata": {
        "id": "90OiTPLWGSup",
        "colab_type": "code",
        "outputId": "0a6f7f06-ac4d-479b-c7b0-0acd4b0034d5",
        "colab": {
          "base_uri": "https://localhost:8080/",
          "height": 295
        }
      },
      "source": [
        "plt.figure(figsize=(6, 4))\n",
        "plt.plot(history.history['acc'], 'r', label='Accuracy of training data')\n",
        "plt.plot(history.history['val_acc'], 'b', label='Accuracy of validation data')\n",
        "plt.plot(history.history['loss'], 'r--', label='Loss of training data')\n",
        "plt.plot(history.history['val_loss'], 'b--', label='Loss of validation data')\n",
        "plt.title('Model Accuracy and Loss')\n",
        "plt.ylabel('Accuracy and Loss')\n",
        "plt.xlabel('Training Epoch')\n",
        "plt.ylim(0)\n",
        "plt.legend()\n",
        "plt.show()"
      ],
      "execution_count": 10,
      "outputs": [
        {
          "output_type": "display_data",
          "data": {
            "image/png": "[encoded data removed]",
            "text/plain": [
              "<Figure size 432x288 with 1 Axes>"
            ]
          },
          "metadata": {
            "tags": []
          }
        }
      ]
    },
    {
      "cell_type": "code",
      "metadata": {
        "id": "myhA1GNCGqwT",
        "colab_type": "code",
        "colab": {}
      },
      "source": [
        "def show_confusion_matrix(validations, predictions):\n",
        "\n",
        "    matrix = metrics.confusion_matrix(validations, predictions)\n",
        "    plt.figure(figsize=(12, 8))\n",
        "    \n",
        "    sns.heatmap(matrix,\n",
        "                cmap='coolwarm',\n",
        "                linecolor='white',\n",
        "                linewidths=1,\n",
        "                xticklabels=LABELS,\n",
        "                yticklabels=LABELS,\n",
        "                annot=True,\n",
        "                fmt='d')\n",
        "    plt.title('Confusion Matrix')\n",
        "    plt.ylabel('True Label')\n",
        "    plt.xlabel('Predicted Label')\n",
        "    \n",
        "    # fix for mpl bug that cuts off top/bottom of seaborn viz\n",
        "    b, t = plt.ylim() # discover the values for bottom and top\n",
        "    b += 0.5 # Add 0.5 to the bottom\n",
        "    t -= 0.5 # Subtract 0.5 from the top\n",
        "    plt.ylim(b, t) # update the ylim(bottom, top) values\n",
        "    \n",
        "    plt.show()"
      ],
      "execution_count": 0,
      "outputs": []
    },
    {
      "cell_type": "code",
      "metadata": {
        "id": "zMgJkvq7GyZF",
        "colab_type": "code",
        "outputId": "523a7eab-ec9b-44ad-c0dc-f8e23ea4b9cf",
        "colab": {
          "base_uri": "https://localhost:8080/",
          "height": 967
        }
      },
      "source": [
        "y_pred_test = model.predict(X_test)\n",
        "max_y_pred_test = np.argmax(y_pred_test, axis=1)\n",
        "max_y_test = np.argmax(y_test, axis=1)\n",
        "show_confusion_matrix(max_y_test, max_y_pred_test)\n",
        "print(classification_report(max_y_test, max_y_pred_test))"
      ],
      "execution_count": 12,
      "outputs": [
        {
          "output_type": "display_data",
          "data": {
            "image/png": "[encoded data removed]",
            "text/plain": [
              "<Figure size 864x576 with 2 Axes>"
            ]
          },
          "metadata": {
            "tags": []
          }
        },
        {
          "output_type": "stream",
          "text": [
            "              precision    recall  f1-score   support\n",
            "\n",
            "           0       0.83      0.74      0.78      1154\n",
            "           1       0.99      0.99      0.99      1084\n",
            "           2       0.96      0.90      0.93      1683\n",
            "           3       0.85      0.91      0.88      1650\n",
            "           4       0.99      0.90      0.95       404\n",
            "           5       0.78      0.86      0.82      1161\n",
            "           6       0.87      0.84      0.86      1017\n",
            "           7       1.00      1.00      1.00       959\n",
            "           8       0.92      0.96      0.94      1652\n",
            "           9       0.78      0.87      0.82      1090\n",
            "          10       0.91      0.99      0.95       394\n",
            "          11       0.96      0.88      0.92      1144\n",
            "          12       0.85      0.56      0.68       533\n",
            "          13       0.77      0.91      0.83      1179\n",
            "          14       0.96      0.89      0.92      1776\n",
            "\n",
            "    accuracy                           0.89     16880\n",
            "   macro avg       0.89      0.88      0.88     16880\n",
            "weighted avg       0.89      0.89      0.89     16880\n",
            "\n"
          ],
          "name": "stdout"
        }
      ]
    },
    {
      "cell_type": "code",
      "metadata": {
        "id": "hIKpwGQO4FtL",
        "colab_type": "code",
        "colab": {
          "base_uri": "https://localhost:8080/",
          "height": 262
        },
        "outputId": "9692120f-bb49-4b79-d7ab-223b1f3a3351"
      },
      "source": [
        "#print(X_data[X1_data.shape[0]].reshape(1, 140, 5))\n",
        "print(y[3].reshape(1, 1, 15))\n",
        "for i in range(X_data.shape[0]):\n",
        "  x_input = X_data[i].reshape(1, 140, 5)\n",
        "  yhat = model.predict(x_input, verbose=0)\n",
        "  print([ \"{:0.2f}\".format(x) for x in yhat[0] ])"
      ],
      "execution_count": 13,
      "outputs": [
        {
          "output_type": "stream",
          "text": [
            "[[[0 0 0 0 0 0 0 0 0 0 0 0 0 0 1]]]\n"
          ],
          "name": "stdout"
        },
        {
          "output_type": "error",
          "ename": "ValueError",
          "evalue": "ignored",
          "traceback": [
            "\u001b[0;31m---------------------------------------------------------------------------\u001b[0m",
            "\u001b[0;31mValueError\u001b[0m                                Traceback (most recent call last)",
            "\u001b[0;32m<ipython-input-13-d3e42b2fad16>\u001b[0m in \u001b[0;36m<module>\u001b[0;34m()\u001b[0m\n\u001b[1;32m      1\u001b[0m \u001b[0mprint\u001b[0m\u001b[0;34m(\u001b[0m\u001b[0my\u001b[0m\u001b[0;34m[\u001b[0m\u001b[0;36m3\u001b[0m\u001b[0;34m]\u001b[0m\u001b[0;34m.\u001b[0m\u001b[0mreshape\u001b[0m\u001b[0;34m(\u001b[0m\u001b[0;36m1\u001b[0m\u001b[0;34m,\u001b[0m \u001b[0;36m1\u001b[0m\u001b[0;34m,\u001b[0m \u001b[0;36m15\u001b[0m\u001b[0;34m)\u001b[0m\u001b[0;34m)\u001b[0m\u001b[0;34m\u001b[0m\u001b[0;34m\u001b[0m\u001b[0m\n\u001b[1;32m      2\u001b[0m \u001b[0;32mfor\u001b[0m \u001b[0mi\u001b[0m \u001b[0;32min\u001b[0m \u001b[0mrange\u001b[0m\u001b[0;34m(\u001b[0m\u001b[0mX_data\u001b[0m\u001b[0;34m.\u001b[0m\u001b[0mshape\u001b[0m\u001b[0;34m[\u001b[0m\u001b[0;36m0\u001b[0m\u001b[0;34m]\u001b[0m\u001b[0;34m)\u001b[0m\u001b[0;34m:\u001b[0m\u001b[0;34m\u001b[0m\u001b[0;34m\u001b[0m\u001b[0m\n\u001b[0;32m----> 3\u001b[0;31m   \u001b[0mx_input\u001b[0m \u001b[0;34m=\u001b[0m \u001b[0mX_data\u001b[0m\u001b[0;34m[\u001b[0m\u001b[0mi\u001b[0m\u001b[0;34m]\u001b[0m\u001b[0;34m.\u001b[0m\u001b[0mreshape\u001b[0m\u001b[0;34m(\u001b[0m\u001b[0;36m1\u001b[0m\u001b[0;34m,\u001b[0m \u001b[0;36m140\u001b[0m\u001b[0;34m,\u001b[0m \u001b[0;36m5\u001b[0m\u001b[0;34m)\u001b[0m\u001b[0;34m\u001b[0m\u001b[0;34m\u001b[0m\u001b[0m\n\u001b[0m\u001b[1;32m      4\u001b[0m   \u001b[0myhat\u001b[0m \u001b[0;34m=\u001b[0m \u001b[0mmodel\u001b[0m\u001b[0;34m.\u001b[0m\u001b[0mpredict\u001b[0m\u001b[0;34m(\u001b[0m\u001b[0mx_input\u001b[0m\u001b[0;34m,\u001b[0m \u001b[0mverbose\u001b[0m\u001b[0;34m=\u001b[0m\u001b[0;36m0\u001b[0m\u001b[0;34m)\u001b[0m\u001b[0;34m\u001b[0m\u001b[0;34m\u001b[0m\u001b[0m\n\u001b[1;32m      5\u001b[0m   \u001b[0mprint\u001b[0m\u001b[0;34m(\u001b[0m\u001b[0;34m[\u001b[0m \u001b[0;34m\"{:0.2f}\"\u001b[0m\u001b[0;34m.\u001b[0m\u001b[0mformat\u001b[0m\u001b[0;34m(\u001b[0m\u001b[0mx\u001b[0m\u001b[0;34m)\u001b[0m \u001b[0;32mfor\u001b[0m \u001b[0mx\u001b[0m \u001b[0;32min\u001b[0m \u001b[0myhat\u001b[0m\u001b[0;34m[\u001b[0m\u001b[0;36m0\u001b[0m\u001b[0;34m]\u001b[0m \u001b[0;34m]\u001b[0m\u001b[0;34m)\u001b[0m\u001b[0;34m\u001b[0m\u001b[0;34m\u001b[0m\u001b[0m\n",
            "\u001b[0;31mValueError\u001b[0m: cannot reshape array of size 560 into shape (1,140,5)"
          ]
        }
      ]
    },
    {
      "cell_type": "code",
      "metadata": {
        "id": "xNYGvIWxwOry",
        "colab_type": "code",
        "colab": {}
      },
      "source": [
        "from google.colab import files\n",
        "files.upload()"
      ],
      "execution_count": 0,
      "outputs": []
    },
    {
      "cell_type": "markdown",
      "metadata": {
        "id": "UmG8y0T8-UrT",
        "colab_type": "text"
      },
      "source": [
        "Normalization 할 것\n",
        "\n",
        "Conv1D를 32 64 128 과 같은 방식으로\n",
        "\n",
        "Dense Layer 이전을 100정도로, 삭제 하는것이 용량 아낌이 좋음\n",
        "\n",
        "비슷한 Feature에 대해서 묶어 주면 Accuracy 상승 가능\n"
      ]
    }
  ]
}