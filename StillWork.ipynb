{
  "nbformat": 4,
  "nbformat_minor": 0,
  "metadata": {
    "colab": {
      "name": "StillWork.ipynb",
      "provenance": [],
      "machine_shape": "hm",
      "include_colab_link": true
    },
    "kernelspec": {
      "name": "python3",
      "display_name": "Python 3"
    }
  },
  "cells": [
    {
      "cell_type": "markdown",
      "metadata": {
        "id": "view-in-github",
        "colab_type": "text"
      },
      "source": [
        "<a href=\"https://colab.research.google.com/github/makkolli31/StillWork/blob/master/StillWork.ipynb\" target=\"_parent\"><img src=\"https://colab.research.google.com/assets/colab-badge.svg\" alt=\"Open In Colab\"/></a>"
      ]
    },
    {
      "cell_type": "code",
      "metadata": {
        "id": "yUP9HS6rM4he",
        "colab_type": "code",
        "colab": {
          "base_uri": "https://localhost:8080/",
          "height": 82
        },
        "outputId": "e855f326-651c-41cb-8a21-19590c586c0c"
      },
      "source": [
        "# univariate cnn example\n",
        "from numpy import array\n",
        "import keras\n",
        "from keras.models import Sequential\n",
        "from keras.layers import Dense\n",
        "from keras.layers import Flatten\n",
        "from keras.layers.convolutional import Conv1D\n",
        "from keras.layers.convolutional import MaxPooling1D\n",
        "from keras.layers import BatchNormalization\n",
        "import pandas as pd\n",
        "import numpy as np\n"
      ],
      "execution_count": 12,
      "outputs": [
        {
          "output_type": "stream",
          "text": [
            "Using TensorFlow backend.\n"
          ],
          "name": "stderr"
        },
        {
          "output_type": "display_data",
          "data": {
            "text/html": [
              "<p style=\"color: red;\">\n",
              "The default version of TensorFlow in Colab will soon switch to TensorFlow 2.x.<br>\n",
              "We recommend you <a href=\"https://www.tensorflow.org/guide/migrate\" target=\"_blank\">upgrade</a> now \n",
              "or ensure your notebook will continue to use TensorFlow 1.x via the <code>%tensorflow_version 1.x</code> magic:\n",
              "<a href=\"https://colab.research.google.com/notebooks/tensorflow_version.ipynb\" target=\"_blank\">more info</a>.</p>\n"
            ],
            "text/plain": [
              "<IPython.core.display.HTML object>"
            ]
          },
          "metadata": {
            "tags": []
          }
        }
      ]
    },
    {
      "cell_type": "code",
      "metadata": {
        "id": "z8Snp_345X9U",
        "colab_type": "code",
        "outputId": "b62fbc1a-2ab3-4453-a00e-f590798bbdef",
        "colab": {
          "base_uri": "https://localhost:8080/",
          "height": 297
        }
      },
      "source": [
        "#col_names_new = ['RequestRPM', 'CurrentRPM','WaterFreq', 'vibX', 'vibY', 'vibZ', 'UB', 'QCurrent2', 'RinseStep']\n",
        "#df = pd.read_csv(\"/content/drive/My Drive/StillWork/V600_no01_1kgTowel_C3_HIGH_20190611_01_001.txt1_Extract.txt\", sep=' ', header=None)\n",
        "#df.columns = col_names_new\n",
        "df1 = pd.read_csv(\"/content/drive/My Drive/StillWork/1kgTowel_Extract.txt\", sep=' ')\n",
        "df2 = pd.read_csv(\"/content/drive/My Drive/StillWork/T셔츠_Extract.txt\", sep=' ')\n",
        "df3 = pd.read_csv(\"/content/drive/My Drive/StillWork/Y셔츠_Extract.txt\", sep=' ')\n",
        "df4 = pd.read_csv(\"/content/drive/My Drive/StillWork/동1타200_Extract.txt\", sep=' ')\n",
        "df5 = pd.read_csv(\"/content/drive/My Drive/StillWork/동잠바_Extract.txt\", sep=' ')\n",
        "df6 = pd.read_csv(\"/content/drive/My Drive/StillWork/실용2_Extract.txt\", sep=' ')\n",
        "df7 = pd.read_csv(\"/content/drive/My Drive/StillWork/실용3_Extract.txt\", sep=' ')\n",
        "df8 = pd.read_csv(\"/content/drive/My Drive/StillWork/실용4_Extract.txt\", sep=' ')\n",
        "df9 = pd.read_csv(\"/content/drive/My Drive/StillWork/청바지_Extract.txt\", sep=' ')\n",
        "df10 = pd.read_csv(\"/content/drive/My Drive/StillWork/청팬티_Extract.txt\", sep=' ')\n",
        "df11 = pd.read_csv(\"/content/drive/My Drive/StillWork/추잠바_Extract.txt\", sep=' ')\n",
        "df12 = pd.read_csv(\"/content/drive/My Drive/StillWork/타월2_Extract.txt\", sep=' ')\n",
        "df13 = pd.read_csv(\"/content/drive/My Drive/StillWork/타월3_Extract.txt\", sep=' ')\n",
        "df14 = pd.read_csv(\"/content/drive/My Drive/StillWork/타월4_Extract.txt\", sep=' ')\n",
        "df15 = pd.read_csv(\"/content/drive/My Drive/StillWork/후드티_Extract.txt\", sep=' ')\n",
        "\n",
        "df_data = pd.concat([df1, df2, df3, df4, df5, df6, df7, df8, df9, df10, df11, df12, df13, df14, df15], axis=0)\n",
        "\n",
        "#with pd.option_context('display.float_format', '{:0.2f}'.format):\n",
        "df_data.describe()"
      ],
      "execution_count": 13,
      "outputs": [
        {
          "output_type": "execute_result",
          "data": {
            "text/html": [
              "<div>\n",
              "<style scoped>\n",
              "    .dataframe tbody tr th:only-of-type {\n",
              "        vertical-align: middle;\n",
              "    }\n",
              "\n",
              "    .dataframe tbody tr th {\n",
              "        vertical-align: top;\n",
              "    }\n",
              "\n",
              "    .dataframe thead th {\n",
              "        text-align: right;\n",
              "    }\n",
              "</style>\n",
              "<table border=\"1\" class=\"dataframe\">\n",
              "  <thead>\n",
              "    <tr style=\"text-align: right;\">\n",
              "      <th></th>\n",
              "      <th>RequestRPM</th>\n",
              "      <th>CurrentRPM</th>\n",
              "      <th>WaterFreq</th>\n",
              "      <th>vibX</th>\n",
              "      <th>vibY</th>\n",
              "      <th>vibZ</th>\n",
              "      <th>UB</th>\n",
              "      <th>QCurrent2</th>\n",
              "      <th>RinseStep</th>\n",
              "    </tr>\n",
              "  </thead>\n",
              "  <tbody>\n",
              "    <tr>\n",
              "      <th>count</th>\n",
              "      <td>1.181652e+07</td>\n",
              "      <td>1.181652e+07</td>\n",
              "      <td>1.181652e+07</td>\n",
              "      <td>1.181652e+07</td>\n",
              "      <td>1.181652e+07</td>\n",
              "      <td>1.181652e+07</td>\n",
              "      <td>1.181652e+07</td>\n",
              "      <td>1.181652e+07</td>\n",
              "      <td>11816515.0</td>\n",
              "    </tr>\n",
              "    <tr>\n",
              "      <th>mean</th>\n",
              "      <td>4.614447e+01</td>\n",
              "      <td>4.371706e+01</td>\n",
              "      <td>2.325486e+02</td>\n",
              "      <td>4.848985e+02</td>\n",
              "      <td>6.253674e+02</td>\n",
              "      <td>4.369962e+02</td>\n",
              "      <td>6.655774e+02</td>\n",
              "      <td>1.076428e+03</td>\n",
              "      <td>8.0</td>\n",
              "    </tr>\n",
              "    <tr>\n",
              "      <th>std</th>\n",
              "      <td>6.356907e+00</td>\n",
              "      <td>1.187683e+01</td>\n",
              "      <td>8.948155e+00</td>\n",
              "      <td>3.688567e+02</td>\n",
              "      <td>8.333832e+02</td>\n",
              "      <td>7.062617e+02</td>\n",
              "      <td>1.051788e+03</td>\n",
              "      <td>5.641362e+02</td>\n",
              "      <td>0.0</td>\n",
              "    </tr>\n",
              "    <tr>\n",
              "      <th>min</th>\n",
              "      <td>3.000000e+01</td>\n",
              "      <td>0.000000e+00</td>\n",
              "      <td>1.000000e+00</td>\n",
              "      <td>0.000000e+00</td>\n",
              "      <td>0.000000e+00</td>\n",
              "      <td>0.000000e+00</td>\n",
              "      <td>0.000000e+00</td>\n",
              "      <td>0.000000e+00</td>\n",
              "      <td>8.0</td>\n",
              "    </tr>\n",
              "    <tr>\n",
              "      <th>25%</th>\n",
              "      <td>4.600000e+01</td>\n",
              "      <td>4.300000e+01</td>\n",
              "      <td>2.300000e+02</td>\n",
              "      <td>2.520000e+02</td>\n",
              "      <td>2.810000e+02</td>\n",
              "      <td>2.150000e+02</td>\n",
              "      <td>1.800000e+02</td>\n",
              "      <td>6.780000e+02</td>\n",
              "      <td>8.0</td>\n",
              "    </tr>\n",
              "    <tr>\n",
              "      <th>50%</th>\n",
              "      <td>4.600000e+01</td>\n",
              "      <td>4.600000e+01</td>\n",
              "      <td>2.330000e+02</td>\n",
              "      <td>3.820000e+02</td>\n",
              "      <td>3.950000e+02</td>\n",
              "      <td>2.970000e+02</td>\n",
              "      <td>3.040000e+02</td>\n",
              "      <td>9.670000e+02</td>\n",
              "      <td>8.0</td>\n",
              "    </tr>\n",
              "    <tr>\n",
              "      <th>75%</th>\n",
              "      <td>4.600000e+01</td>\n",
              "      <td>4.800000e+01</td>\n",
              "      <td>2.350000e+02</td>\n",
              "      <td>5.920000e+02</td>\n",
              "      <td>5.990000e+02</td>\n",
              "      <td>4.380000e+02</td>\n",
              "      <td>5.580000e+02</td>\n",
              "      <td>1.372000e+03</td>\n",
              "      <td>8.0</td>\n",
              "    </tr>\n",
              "    <tr>\n",
              "      <th>max</th>\n",
              "      <td>4.800000e+02</td>\n",
              "      <td>4.830000e+02</td>\n",
              "      <td>2.480000e+02</td>\n",
              "      <td>1.280600e+04</td>\n",
              "      <td>1.723300e+04</td>\n",
              "      <td>1.989800e+04</td>\n",
              "      <td>5.850800e+04</td>\n",
              "      <td>1.254600e+04</td>\n",
              "      <td>8.0</td>\n",
              "    </tr>\n",
              "  </tbody>\n",
              "</table>\n",
              "</div>"
            ],
            "text/plain": [
              "         RequestRPM    CurrentRPM  ...     QCurrent2   RinseStep\n",
              "count  1.181652e+07  1.181652e+07  ...  1.181652e+07  11816515.0\n",
              "mean   4.614447e+01  4.371706e+01  ...  1.076428e+03         8.0\n",
              "std    6.356907e+00  1.187683e+01  ...  5.641362e+02         0.0\n",
              "min    3.000000e+01  0.000000e+00  ...  0.000000e+00         8.0\n",
              "25%    4.600000e+01  4.300000e+01  ...  6.780000e+02         8.0\n",
              "50%    4.600000e+01  4.600000e+01  ...  9.670000e+02         8.0\n",
              "75%    4.600000e+01  4.800000e+01  ...  1.372000e+03         8.0\n",
              "max    4.800000e+02  4.830000e+02  ...  1.254600e+04         8.0\n",
              "\n",
              "[8 rows x 9 columns]"
            ]
          },
          "metadata": {
            "tags": []
          },
          "execution_count": 13
        }
      ]
    },
    {
      "cell_type": "code",
      "metadata": {
        "id": "opLWjgrs5tiV",
        "colab_type": "code",
        "outputId": "297f71e0-0323-4a8e-879c-af70767d23ce",
        "colab": {
          "base_uri": "https://localhost:8080/",
          "height": 107
        }
      },
      "source": [
        "\n",
        "X1 = df1[['CurrentRPM', 'vibX', 'vibY', 'vibZ', 'QCurrent2']].values\n",
        "X2 = df2[['CurrentRPM', 'vibX', 'vibY', 'vibZ', 'QCurrent2']].values\n",
        "X3 = df3[['CurrentRPM', 'vibX', 'vibY', 'vibZ', 'QCurrent2']].values\n",
        "X4 = df4[['CurrentRPM', 'vibX', 'vibY', 'vibZ', 'QCurrent2']].values\n",
        "X5 = df5[['CurrentRPM', 'vibX', 'vibY', 'vibZ', 'QCurrent2']].values\n",
        "X6 = df6[['CurrentRPM', 'vibX', 'vibY', 'vibZ', 'QCurrent2']].values\n",
        "X7 = df7[['CurrentRPM', 'vibX', 'vibY', 'vibZ', 'QCurrent2']].values\n",
        "X8 = df8[['CurrentRPM', 'vibX', 'vibY', 'vibZ', 'QCurrent2']].values\n",
        "X9 = df9[['CurrentRPM', 'vibX', 'vibY', 'vibZ', 'QCurrent2']].values\n",
        "X10 = df10[['CurrentRPM', 'vibX', 'vibY', 'vibZ', 'QCurrent2']].values\n",
        "X11 = df11[['CurrentRPM', 'vibX', 'vibY', 'vibZ', 'QCurrent2']].values\n",
        "X12 = df12[['CurrentRPM', 'vibX', 'vibY', 'vibZ', 'QCurrent2']].values\n",
        "X13 = df13[['CurrentRPM', 'vibX', 'vibY', 'vibZ', 'QCurrent2']].values\n",
        "X14 = df14[['CurrentRPM', 'vibX', 'vibY', 'vibZ', 'QCurrent2']].values\n",
        "X15 = df15[['CurrentRPM', 'vibX', 'vibY', 'vibZ', 'QCurrent2']].values\n",
        "# X = np.vstack((X,df[['RequestRPM', 'vibX']].values))\n",
        "# X = np.vstack((X,df[['RequestRPM', 'vibX']].values))\n",
        "# X = np.vstack((X,df[['RequestRPM', 'vibX']].values))\n",
        "# X = np.row_stack([X, df[['RequestRPM', 'vibX']].values])\n",
        "\n",
        "print(X1.shape)\n",
        "print(X1[:4])"
      ],
      "execution_count": 14,
      "outputs": [
        {
          "output_type": "stream",
          "text": [
            "(1199879, 5)\n",
            "[[   1  974 3935 1479  582]\n",
            " [   3  974 3935 1479  968]\n",
            " [   5  974 3935 1479 1277]\n",
            " [  12  974 3935 1479 1351]]\n"
          ],
          "name": "stdout"
        }
      ]
    },
    {
      "cell_type": "code",
      "metadata": {
        "id": "tKouFxnDlG0v",
        "colab_type": "code",
        "colab": {}
      },
      "source": [
        "def split_sequences(sequences, n_steps_in, n_steps_out):\n",
        "  X, y = list(), list()\n",
        "  for i in range(0,len(sequences), n_steps_in):\n",
        "    # find the end of this pattern\n",
        "    end_ix = i + n_steps_in\n",
        "    out_end_ix = end_ix + n_steps_out\n",
        "    # check if we are beyond the dataset\n",
        "    if out_end_ix > len(sequences):\n",
        "        break\n",
        "    # gather input and output parts of the pattern\n",
        "    seq_x, seq_y = sequences[i:end_ix, :], sequences[end_ix:out_end_ix, :]\n",
        "    X.append(seq_x)\n",
        "    y.append(seq_y)\n",
        "  return array(X), array(y)"
      ],
      "execution_count": 0,
      "outputs": []
    },
    {
      "cell_type": "code",
      "metadata": {
        "id": "iyKmoMKQATZY",
        "colab_type": "code",
        "outputId": "c00193f0-b36d-48c0-9de4-834030853d41",
        "colab": {
          "base_uri": "https://localhost:8080/",
          "height": 89
        }
      },
      "source": [
        "X1_data, _ = split_sequences(X1, 140, 1)\n",
        "X2_data, _ = split_sequences(X2, 140, 1)\n",
        "X3_data, _ = split_sequences(X3, 140, 1)\n",
        "X4_data, _ = split_sequences(X4, 140, 1)\n",
        "X5_data, _ = split_sequences(X5, 140, 1)\n",
        "X6_data, _ = split_sequences(X6, 140, 1)\n",
        "X7_data, _ = split_sequences(X7, 140, 1)\n",
        "X8_data, _ = split_sequences(X8, 140, 1)\n",
        "X9_data, _ = split_sequences(X9, 140, 1)\n",
        "X10_data, _ = split_sequences(X10, 140, 1)\n",
        "X11_data, _ = split_sequences(X11, 140, 1)\n",
        "X12_data, _ = split_sequences(X12, 140, 1)\n",
        "X13_data, _ = split_sequences(X13, 140, 1)\n",
        "X14_data, _ = split_sequences(X14, 140, 1)\n",
        "X15_data, _ = split_sequences(X15, 140, 1)\n",
        "#n_features = X.shape[1]\n",
        "# X_data = X.reshape(-1, X.shape[0], X.shape[1])\n",
        "\n",
        "X_data = np.vstack((X1_data, X2_data, X3_data, X4_data, X5_data, X6_data, X7_data, X8_data, X9_data, X10_data, X11_data, X12_data, X13_data, X14_data, X15_data))\n",
        "\n",
        "y1 = np.tile([0, 0, 0, 0, 0, 0, 0, 0, 0, 0, 0, 0, 0, 0, 1], (X1_data.shape[0],1))\n",
        "y2 = np.tile([0, 0, 0, 0, 0, 0, 0, 0, 0, 0, 0, 0, 0, 1, 0], (X2_data.shape[0],1))\n",
        "y3 = np.tile([0, 0, 0, 0, 0, 0, 0, 0, 0, 0, 0, 0, 1, 0, 0], (X3_data.shape[0],1))\n",
        "y4 = np.tile([0, 0, 0, 0, 0, 0, 0, 0, 0, 0, 0, 1, 0, 0, 0], (X4_data.shape[0],1))\n",
        "y5 = np.tile([0, 0, 0, 0, 0, 0, 0, 0, 0, 0, 1, 0, 0, 0, 0], (X5_data.shape[0],1))\n",
        "y6 = np.tile([0, 0, 0, 0, 0, 0, 0, 0, 0, 1, 0, 0, 0, 0, 0], (X6_data.shape[0],1))\n",
        "y7 = np.tile([0, 0, 0, 0, 0, 0, 0, 0, 1, 0, 0, 0, 0, 0, 0], (X7_data.shape[0],1))\n",
        "y8 = np.tile([0, 0, 0, 0, 0, 0, 0, 1, 0, 0, 0, 0, 0, 0, 0], (X8_data.shape[0],1))\n",
        "y9 = np.tile([0, 0, 0, 0, 0, 0, 1, 0, 0, 0, 0, 0, 0, 0, 0], (X9_data.shape[0],1))\n",
        "y10 = np.tile([0, 0, 0, 0, 0, 1, 0, 0, 0, 0, 0, 0, 0, 0, 0], (X10_data.shape[0],1))\n",
        "y11 = np.tile([0, 0, 0, 0, 1, 0, 0, 0, 0, 0, 0, 0, 0, 0, 0], (X11_data.shape[0],1))\n",
        "y12 = np.tile([0, 0, 0, 1, 0, 0, 0, 0, 0, 0, 0, 0, 0, 0, 0], (X12_data.shape[0],1))\n",
        "y13 = np.tile([0, 0, 1, 0, 0, 0, 0, 0, 0, 0, 0, 0, 0, 0, 0], (X13_data.shape[0],1))\n",
        "y14 = np.tile([0, 1, 0, 0, 0, 0, 0, 0, 0, 0, 0, 0, 0, 0, 0], (X14_data.shape[0],1))\n",
        "y15 = np.tile([1, 0, 0, 0, 0, 0, 0, 0, 0, 0, 0, 0, 0, 0, 0], (X15_data.shape[0],1))\n",
        "y = np.vstack((y1, y2, y3, y4, y5, y6, y7, y8, y9, y10, y11, y12, y13, y14, y15))\n",
        "\n",
        "print(X1_data.shape, y1.shape)\n",
        "print(X2_data.shape, y2.shape)\n",
        "print(X_data.shape, y.shape)\n",
        "\n",
        "import seaborn as sns\n",
        "from sklearn import metrics\n",
        "from sklearn.metrics import classification_report\n",
        "from sklearn.model_selection import train_test_split, GridSearchCV, cross_val_score \n",
        "from matplotlib import pyplot as plt\n",
        "%matplotlib inline\n",
        "\n",
        "X_train, X_test, y_train, y_test = train_test_split(X_data, y, test_size = 0.2)\n",
        "X_train.shape , y_train.shape\n",
        "#for i in range(1):\n",
        "    #print(X_data[i], y[i])\n",
        "    #print(X_data[X1_data.shape[0]], y[X1_data.shape[0]])"
      ],
      "execution_count": 31,
      "outputs": [
        {
          "output_type": "stream",
          "text": [
            "(8570, 140, 5) (8570, 15)\n",
            "(6050, 140, 5) (6050, 15)\n",
            "(84395, 140, 5) (84395, 15)\n"
          ],
          "name": "stdout"
        },
        {
          "output_type": "execute_result",
          "data": {
            "text/plain": [
              "((67516, 140, 5), (67516, 15))"
            ]
          },
          "metadata": {
            "tags": []
          },
          "execution_count": 31
        }
      ]
    },
    {
      "cell_type": "code",
      "metadata": {
        "id": "t5imATyp5OaO",
        "colab_type": "code",
        "outputId": "9a6e64f9-e9e0-4b5a-d94b-7788d245387e",
        "colab": {
          "base_uri": "https://localhost:8080/",
          "height": 521
        }
      },
      "source": [
        "# define model\n",
        "model = Sequential()\n",
        "model.add(Conv1D(256, 2, activation='relu', padding='same', input_shape=(X_data.shape[1], X_data.shape[2]))) \n",
        "model.add(BatchNormalization())\n",
        "model.add(MaxPooling1D(2))\n",
        "model.add(Conv1D(256, 2, activation='relu', padding='same'))\n",
        "model.add(MaxPooling1D(2))\n",
        "model.add(Conv1D(256, 2, activation='relu', padding='same'))\n",
        "model.add(MaxPooling1D(5))\n",
        "model.add(Flatten())\n",
        "model.add(Dense(25, activation='relu'))\n",
        "model.add(Dense(15, activation='softmax'))\n",
        "#model.compile(optimizer='adam', loss='mse')\n",
        "model.compile(loss='categorical_crossentropy',\n",
        "                optimizer='adam', metrics=['accuracy'])\n",
        "model.summary()"
      ],
      "execution_count": 38,
      "outputs": [
        {
          "output_type": "stream",
          "text": [
            "Model: \"sequential_5\"\n",
            "_________________________________________________________________\n",
            "Layer (type)                 Output Shape              Param #   \n",
            "=================================================================\n",
            "conv1d_12 (Conv1D)           (None, 140, 256)          2816      \n",
            "_________________________________________________________________\n",
            "batch_normalization_5 (Batch (None, 140, 256)          1024      \n",
            "_________________________________________________________________\n",
            "max_pooling1d_12 (MaxPooling (None, 70, 256)           0         \n",
            "_________________________________________________________________\n",
            "conv1d_13 (Conv1D)           (None, 70, 256)           131328    \n",
            "_________________________________________________________________\n",
            "max_pooling1d_13 (MaxPooling (None, 35, 256)           0         \n",
            "_________________________________________________________________\n",
            "conv1d_14 (Conv1D)           (None, 35, 256)           131328    \n",
            "_________________________________________________________________\n",
            "max_pooling1d_14 (MaxPooling (None, 7, 256)            0         \n",
            "_________________________________________________________________\n",
            "flatten_5 (Flatten)          (None, 1792)              0         \n",
            "_________________________________________________________________\n",
            "dense_9 (Dense)              (None, 25)                44825     \n",
            "_________________________________________________________________\n",
            "dense_10 (Dense)             (None, 15)                390       \n",
            "=================================================================\n",
            "Total params: 311,711\n",
            "Trainable params: 311,199\n",
            "Non-trainable params: 512\n",
            "_________________________________________________________________\n"
          ],
          "name": "stdout"
        }
      ]
    },
    {
      "cell_type": "code",
      "metadata": {
        "id": "XlHDsLpnA8vS",
        "colab_type": "code",
        "outputId": "030e1853-3217-438c-bc17-ca7507f6cb84",
        "colab": {
          "base_uri": "https://localhost:8080/",
          "height": 539
        }
      },
      "source": [
        "callbacks_list = [\n",
        "    keras.callbacks.ModelCheckpoint(\n",
        "        filepath='best_model.{epoch:02d}-{val_loss:.2f}.h5',\n",
        "        monitor='val_loss', save_best_only=True),\n",
        "    keras.callbacks.EarlyStopping(monitor='val_acc', patience=3)\n",
        "]\n",
        "\n",
        "BATCH_SIZE = 300\n",
        "EPOCHS = 30\n",
        "\n",
        "history = model.fit(X_train,\n",
        "                      y_train,\n",
        "                      batch_size=BATCH_SIZE,\n",
        "                      epochs=EPOCHS,\n",
        "                      callbacks=callbacks_list,\n",
        "                      validation_split=0.2,\n",
        "                      verbose=1)\n",
        "\n",
        "_, accuracy = model.evaluate(X_test, y_test, batch_size=BATCH_SIZE, verbose=1)\n",
        "\n",
        "print(accuracy)\n",
        "# demonstrate prediction\n",
        "# x_input = array([70, 80, 90])\n",
        "# x_input = x_input.reshape((1, n_steps, n_features))\n",
        "# yhat = model.predict(x_input, verbose=0)\n",
        "# print(yhat)"
      ],
      "execution_count": 39,
      "outputs": [
        {
          "output_type": "stream",
          "text": [
            "Train on 54012 samples, validate on 13504 samples\n",
            "Epoch 1/30\n",
            "54012/54012 [==============================] - 91s 2ms/step - loss: 1.6785 - acc: 0.3992 - val_loss: 1.4851 - val_acc: 0.4378\n",
            "Epoch 2/30\n",
            "54012/54012 [==============================] - 91s 2ms/step - loss: 1.1205 - acc: 0.5868 - val_loss: 0.9914 - val_acc: 0.6375\n",
            "Epoch 3/30\n",
            "54012/54012 [==============================] - 92s 2ms/step - loss: 0.9036 - acc: 0.6771 - val_loss: 0.9126 - val_acc: 0.6645\n",
            "Epoch 4/30\n",
            "54012/54012 [==============================] - 92s 2ms/step - loss: 0.7877 - acc: 0.7211 - val_loss: 0.9095 - val_acc: 0.6648\n",
            "Epoch 5/30\n",
            "54012/54012 [==============================] - 94s 2ms/step - loss: 0.7301 - acc: 0.7425 - val_loss: 0.8153 - val_acc: 0.7045\n",
            "Epoch 6/30\n",
            "54012/54012 [==============================] - 94s 2ms/step - loss: 0.6649 - acc: 0.7656 - val_loss: 0.8445 - val_acc: 0.6929\n",
            "Epoch 7/30\n",
            "54012/54012 [==============================] - 94s 2ms/step - loss: 0.6618 - acc: 0.7654 - val_loss: 0.6529 - val_acc: 0.7690\n",
            "Epoch 8/30\n",
            "54012/54012 [==============================] - 93s 2ms/step - loss: 0.5940 - acc: 0.7930 - val_loss: 1.1368 - val_acc: 0.6159\n",
            "Epoch 9/30\n",
            "54012/54012 [==============================] - 96s 2ms/step - loss: 0.6235 - acc: 0.7784 - val_loss: 0.9121 - val_acc: 0.6854\n",
            "Epoch 10/30\n",
            "54012/54012 [==============================] - 94s 2ms/step - loss: 0.5858 - acc: 0.7951 - val_loss: 0.5968 - val_acc: 0.7910\n",
            "Epoch 11/30\n",
            "54012/54012 [==============================] - 94s 2ms/step - loss: 0.5222 - acc: 0.8153 - val_loss: 0.7051 - val_acc: 0.7506\n",
            "Epoch 12/30\n",
            "54012/54012 [==============================] - 94s 2ms/step - loss: 0.5405 - acc: 0.8082 - val_loss: 0.6617 - val_acc: 0.7640\n",
            "Epoch 13/30\n",
            "54012/54012 [==============================] - 94s 2ms/step - loss: 0.5213 - acc: 0.8138 - val_loss: 0.7937 - val_acc: 0.7199\n",
            "16879/16879 [==============================] - 8s 500us/step\n",
            "0.7091059891828266\n"
          ],
          "name": "stdout"
        }
      ]
    },
    {
      "cell_type": "code",
      "metadata": {
        "id": "90OiTPLWGSup",
        "colab_type": "code",
        "colab": {
          "base_uri": "https://localhost:8080/",
          "height": 295
        },
        "outputId": "f298caf7-9183-42ec-a3f0-560577a81de0"
      },
      "source": [
        "plt.figure(figsize=(6, 4))\n",
        "plt.plot(history.history['acc'], 'r', label='Accuracy of training data')\n",
        "plt.plot(history.history['val_acc'], 'b', label='Accuracy of validation data')\n",
        "plt.plot(history.history['loss'], 'r--', label='Loss of training data')\n",
        "plt.plot(history.history['val_loss'], 'b--', label='Loss of validation data')\n",
        "plt.title('Model Accuracy and Loss')\n",
        "plt.ylabel('Accuracy and Loss')\n",
        "plt.xlabel('Training Epoch')\n",
        "plt.ylim(0)\n",
        "plt.legend()\n",
        "plt.show()"
      ],
      "execution_count": 40,
      "outputs": [
        {
          "output_type": "display_data",
          "data": {
            "image/png": "[encoded data removed]",
            "text/plain": [
              "<Figure size 432x288 with 1 Axes>"
            ]
          },
          "metadata": {
            "tags": []
          }
        }
      ]
    },
    {
      "cell_type": "code",
      "metadata": {
        "id": "myhA1GNCGqwT",
        "colab_type": "code",
        "colab": {}
      },
      "source": [
        "def show_confusion_matrix(validations, predictions):\n",
        "\n",
        "    matrix = metrics.confusion_matrix(validations, predictions)\n",
        "    plt.figure(figsize=(12, 8))\n",
        "    sns.heatmap(matrix,\n",
        "                cmap='coolwarm',\n",
        "                linecolor='white',\n",
        "                linewidths=1,\n",
        "                xticklabels='auto',\n",
        "                yticklabels='auto',\n",
        "                annot=True,\n",
        "                fmt='d')\n",
        "    plt.title('Confusion Matrix')\n",
        "    plt.ylabel('True Label')\n",
        "    plt.xlabel('Predicted Label')\n",
        "    plt.show()"
      ],
      "execution_count": 0,
      "outputs": []
    },
    {
      "cell_type": "code",
      "metadata": {
        "id": "zMgJkvq7GyZF",
        "colab_type": "code",
        "colab": {
          "base_uri": "https://localhost:8080/",
          "height": 909
        },
        "outputId": "eb4c5498-2e61-4eb3-c671-29e94f63ccd3"
      },
      "source": [
        "y_pred_test = model.predict(X_test)\n",
        "max_y_pred_test = np.argmax(y_pred_test, axis=1)\n",
        "max_y_test = np.argmax(y_test, axis=1)\n",
        "show_confusion_matrix(max_y_test, max_y_pred_test)\n",
        "print(classification_report(max_y_test, max_y_pred_test))"
      ],
      "execution_count": 44,
      "outputs": [
        {
          "output_type": "display_data",
          "data": {
            "image/png": "[encoded data removed]",
            "text/plain": [
              "<Figure size 864x576 with 2 Axes>"
            ]
          },
          "metadata": {
            "tags": []
          }
        },
        {
          "output_type": "stream",
          "text": [
            "              precision    recall  f1-score   support\n",
            "\n",
            "           0       0.49      0.43      0.46      1180\n",
            "           1       1.00      0.88      0.93      1058\n",
            "           2       0.88      0.62      0.73      1698\n",
            "           3       0.89      0.49      0.63      1697\n",
            "           4       0.44      0.34      0.38       396\n",
            "           5       0.57      0.76      0.65      1178\n",
            "           6       0.64      0.85      0.73      1044\n",
            "           7       0.95      0.83      0.89       964\n",
            "           8       0.93      0.54      0.68      1654\n",
            "           9       0.61      0.78      0.69      1062\n",
            "          10       0.57      0.98      0.72       370\n",
            "          11       0.82      0.92      0.87      1106\n",
            "          12       0.83      0.32      0.46       537\n",
            "          13       0.73      0.86      0.79      1241\n",
            "          14       0.56      0.94      0.70      1694\n",
            "\n",
            "    accuracy                           0.71     16879\n",
            "   macro avg       0.73      0.70      0.69     16879\n",
            "weighted avg       0.75      0.71      0.70     16879\n",
            "\n"
          ],
          "name": "stdout"
        }
      ]
    },
    {
      "cell_type": "code",
      "metadata": {
        "id": "hIKpwGQO4FtL",
        "colab_type": "code",
        "colab": {}
      },
      "source": [
        "#print(X_data[X1_data.shape[0]].reshape(1, 140, 5))\n",
        "print(y[3].reshape(1, 1, 15))\n",
        "for i in range(X_data.shape[0]):\n",
        "  x_input = X_data[i].reshape(1, 140, 5)\n",
        "  yhat = model.predict(x_input, verbose=0)\n",
        "  print([ \"{:0.2f}\".format(x) for x in yhat[0] ])"
      ],
      "execution_count": 0,
      "outputs": []
    },
    {
      "cell_type": "code",
      "metadata": {
        "id": "xNYGvIWxwOry",
        "colab_type": "code",
        "colab": {}
      },
      "source": [
        "from google.colab import files\n",
        "files.upload()"
      ],
      "execution_count": 0,
      "outputs": []
    }
  ]
}