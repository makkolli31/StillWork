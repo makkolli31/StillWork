{
  "nbformat": 4,
  "nbformat_minor": 0,
  "metadata": {
    "colab": {
      "name": "StillWork.ipynb",
      "provenance": [],
      "machine_shape": "hm",
      "include_colab_link": true
    },
    "kernelspec": {
      "name": "python3",
      "display_name": "Python 3"
    }
  },
  "cells": [
    {
      "cell_type": "markdown",
      "metadata": {
        "id": "view-in-github",
        "colab_type": "text"
      },
      "source": [
        "<a href=\"https://colab.research.google.com/github/makkolli31/StillWork/blob/master/StillWork.ipynb\" target=\"_parent\"><img src=\"https://colab.research.google.com/assets/colab-badge.svg\" alt=\"Open In Colab\"/></a>"
      ]
    },
    {
      "cell_type": "code",
      "metadata": {
        "id": "yUP9HS6rM4he",
        "colab_type": "code",
        "colab": {}
      },
      "source": [
        "# univariate cnn example\n",
        "from numpy import array\n",
        "import keras\n",
        "from keras.models import Sequential\n",
        "from keras.layers import Dense\n",
        "from keras.layers import Flatten\n",
        "from keras.layers.convolutional import Conv1D\n",
        "from keras.layers.convolutional import MaxPooling1D\n",
        "from keras.layers import BatchNormalization\n",
        "import pandas as pd\n",
        "import numpy as np\n"
      ],
      "execution_count": 0,
      "outputs": []
    },
    {
      "cell_type": "code",
      "metadata": {
        "id": "z8Snp_345X9U",
        "colab_type": "code",
        "outputId": "5ecdfeba-d250-49b9-d299-42f425fa705d",
        "colab": {
          "base_uri": "https://localhost:8080/",
          "height": 297
        }
      },
      "source": [
        "#col_names_new = ['RequestRPM', 'CurrentRPM','WaterFreq', 'vibX', 'vibY', 'vibZ', 'UB', 'QCurrent2', 'RinseStep']\n",
        "#df = pd.read_csv(\"/content/drive/My Drive/StillWork/V600_no01_1kgTowel_C3_HIGH_20190611_01_001.txt1_Extract.txt\", sep=' ', header=None)\n",
        "#df.columns = col_names_new\n",
        "path = '/content/drive/My Drive/StillWork/'\n",
        "df1 = pd.read_csv(path + \"1kgTowel_Extract.txt\", sep=' ')\n",
        "df2 = pd.read_csv(path + \"T셔츠_Extract.txt\", sep=' ')\n",
        "df3 = pd.read_csv(path + \"Y셔츠_Extract.txt\", sep=' ')\n",
        "df4 = pd.read_csv(path + \"동1타200_Extract.txt\", sep=' ')\n",
        "df5 = pd.read_csv(path + \"동잠바_Extract.txt\", sep=' ')\n",
        "df6 = pd.read_csv(path + \"실용2_Extract.txt\", sep=' ')\n",
        "df7 = pd.read_csv(path + \"실용3_Extract.txt\", sep=' ')\n",
        "df8 = pd.read_csv(path + \"실용4_Extract.txt\", sep=' ')\n",
        "df9 = pd.read_csv(path + \"청바지_Extract.txt\", sep=' ')\n",
        "df10 = pd.read_csv(path + \"청팬티_Extract.txt\", sep=' ')\n",
        "df11 = pd.read_csv(path + \"추잠바_Extract.txt\", sep=' ')\n",
        "df12 = pd.read_csv(path + \"타월2_Extract.txt\", sep=' ')\n",
        "df13 = pd.read_csv(path + \"타월3_Extract.txt\", sep=' ')\n",
        "df14 = pd.read_csv(path + \"타월4_Extract.txt\", sep=' ')\n",
        "df15 = pd.read_csv(path + \"후드티_Extract.txt\", sep=' ')\n",
        "\n",
        "df1 = df1.iloc[:df1.shape[0] - df1.shape[0] % 140]\n",
        "df2 = df2.iloc[:df2.shape[0] - df2.shape[0] % 140]\n",
        "df3 = df3.iloc[:df3.shape[0] - df3.shape[0] % 140]\n",
        "df4 = df4.iloc[:df4.shape[0] - df4.shape[0] % 140]\n",
        "df5 = df5.iloc[:df5.shape[0] - df5.shape[0] % 140]\n",
        "df6 = df6.iloc[:df6.shape[0] - df6.shape[0] % 140]\n",
        "df7 = df7.iloc[:df7.shape[0] - df7.shape[0] % 140]\n",
        "df8 = df8.iloc[:df8.shape[0] - df8.shape[0] % 140]\n",
        "df9 = df9.iloc[:df9.shape[0] - df9.shape[0] % 140]\n",
        "df10 = df10.iloc[:df10.shape[0] - df10.shape[0] % 140]\n",
        "df11 = df11.iloc[:df11.shape[0] - df11.shape[0] % 140]\n",
        "df12 = df12.iloc[:df12.shape[0] - df12.shape[0] % 140]\n",
        "df13 = df13.iloc[:df13.shape[0] - df13.shape[0] % 140]\n",
        "df14 = df14.iloc[:df14.shape[0] - df14.shape[0] % 140]\n",
        "df15 = df15.iloc[:df15.shape[0] - df15.shape[0] % 140]\n",
        "df_data = pd.concat([df1, df2, df3, df4, df5, df6, df7, df8, df9, df10, df11, df12, df13, df14, df15], axis=0)\n",
        "\n",
        "normalized_df=(df_data-df_data.mean())/df_data.std()\n",
        "\n",
        "#with pd.option_context('display.float_format', '{:0.2f}'.format):\n",
        "normalized_df.describe()"
      ],
      "execution_count": 148,
      "outputs": [
        {
          "output_type": "execute_result",
          "data": {
            "text/html": [
              "<div>\n",
              "<style scoped>\n",
              "    .dataframe tbody tr th:only-of-type {\n",
              "        vertical-align: middle;\n",
              "    }\n",
              "\n",
              "    .dataframe tbody tr th {\n",
              "        vertical-align: top;\n",
              "    }\n",
              "\n",
              "    .dataframe thead th {\n",
              "        text-align: right;\n",
              "    }\n",
              "</style>\n",
              "<table border=\"1\" class=\"dataframe\">\n",
              "  <thead>\n",
              "    <tr style=\"text-align: right;\">\n",
              "      <th></th>\n",
              "      <th>RequestRPM</th>\n",
              "      <th>CurrentRPM</th>\n",
              "      <th>WaterFreq</th>\n",
              "      <th>vibX</th>\n",
              "      <th>vibY</th>\n",
              "      <th>vibZ</th>\n",
              "      <th>UB</th>\n",
              "      <th>QCurrent2</th>\n",
              "      <th>RinseStep</th>\n",
              "    </tr>\n",
              "  </thead>\n",
              "  <tbody>\n",
              "    <tr>\n",
              "      <th>count</th>\n",
              "      <td>1.181572e+07</td>\n",
              "      <td>1.181572e+07</td>\n",
              "      <td>1.181572e+07</td>\n",
              "      <td>1.181572e+07</td>\n",
              "      <td>1.181572e+07</td>\n",
              "      <td>1.181572e+07</td>\n",
              "      <td>1.181572e+07</td>\n",
              "      <td>1.181572e+07</td>\n",
              "      <td>11815720.0</td>\n",
              "    </tr>\n",
              "    <tr>\n",
              "      <th>mean</th>\n",
              "      <td>-4.481405e-13</td>\n",
              "      <td>3.612324e-13</td>\n",
              "      <td>-1.264080e-12</td>\n",
              "      <td>5.530190e-14</td>\n",
              "      <td>-1.558708e-14</td>\n",
              "      <td>-2.640006e-14</td>\n",
              "      <td>1.833307e-13</td>\n",
              "      <td>-3.421613e-15</td>\n",
              "      <td>0.0</td>\n",
              "    </tr>\n",
              "    <tr>\n",
              "      <th>std</th>\n",
              "      <td>1.000000e+00</td>\n",
              "      <td>1.000000e+00</td>\n",
              "      <td>1.000000e+00</td>\n",
              "      <td>1.000000e+00</td>\n",
              "      <td>1.000000e+00</td>\n",
              "      <td>1.000000e+00</td>\n",
              "      <td>1.000000e+00</td>\n",
              "      <td>1.000000e+00</td>\n",
              "      <td>0.0</td>\n",
              "    </tr>\n",
              "    <tr>\n",
              "      <th>min</th>\n",
              "      <td>-2.539603e+00</td>\n",
              "      <td>-3.680794e+00</td>\n",
              "      <td>-2.588347e+01</td>\n",
              "      <td>-1.314603e+00</td>\n",
              "      <td>-7.503958e-01</td>\n",
              "      <td>-6.187477e-01</td>\n",
              "      <td>-6.328122e-01</td>\n",
              "      <td>-1.908177e+00</td>\n",
              "      <td>0.0</td>\n",
              "    </tr>\n",
              "    <tr>\n",
              "      <th>25%</th>\n",
              "      <td>-2.272483e-02</td>\n",
              "      <td>-6.036572e-02</td>\n",
              "      <td>-2.849066e-01</td>\n",
              "      <td>-6.314166e-01</td>\n",
              "      <td>-4.132257e-01</td>\n",
              "      <td>-3.143370e-01</td>\n",
              "      <td>-4.616765e-01</td>\n",
              "      <td>-7.063041e-01</td>\n",
              "      <td>0.0</td>\n",
              "    </tr>\n",
              "    <tr>\n",
              "      <th>50%</th>\n",
              "      <td>-2.272483e-02</td>\n",
              "      <td>1.922223e-01</td>\n",
              "      <td>5.044567e-02</td>\n",
              "      <td>-2.789793e-01</td>\n",
              "      <td>-2.764379e-01</td>\n",
              "      <td>-1.982362e-01</td>\n",
              "      <td>-3.437830e-01</td>\n",
              "      <td>-1.940015e-01</td>\n",
              "      <td>0.0</td>\n",
              "    </tr>\n",
              "    <tr>\n",
              "      <th>75%</th>\n",
              "      <td>-2.272483e-02</td>\n",
              "      <td>3.606143e-01</td>\n",
              "      <td>2.740139e-01</td>\n",
              "      <td>2.903424e-01</td>\n",
              "      <td>-3.165962e-02</td>\n",
              "      <td>1.400501e-03</td>\n",
              "      <td>-1.022915e-01</td>\n",
              "      <td>5.239311e-01</td>\n",
              "      <td>0.0</td>\n",
              "    </tr>\n",
              "    <tr>\n",
              "      <th>max</th>\n",
              "      <td>6.824759e+01</td>\n",
              "      <td>3.698588e+01</td>\n",
              "      <td>1.727207e+00</td>\n",
              "      <td>3.340318e+01</td>\n",
              "      <td>1.992737e+01</td>\n",
              "      <td>2.755410e+01</td>\n",
              "      <td>5.499389e+01</td>\n",
              "      <td>2.033178e+01</td>\n",
              "      <td>0.0</td>\n",
              "    </tr>\n",
              "  </tbody>\n",
              "</table>\n",
              "</div>"
            ],
            "text/plain": [
              "         RequestRPM    CurrentRPM  ...     QCurrent2   RinseStep\n",
              "count  1.181572e+07  1.181572e+07  ...  1.181572e+07  11815720.0\n",
              "mean  -4.481405e-13  3.612324e-13  ... -3.421613e-15         0.0\n",
              "std    1.000000e+00  1.000000e+00  ...  1.000000e+00         0.0\n",
              "min   -2.539603e+00 -3.680794e+00  ... -1.908177e+00         0.0\n",
              "25%   -2.272483e-02 -6.036572e-02  ... -7.063041e-01         0.0\n",
              "50%   -2.272483e-02  1.922223e-01  ... -1.940015e-01         0.0\n",
              "75%   -2.272483e-02  3.606143e-01  ...  5.239311e-01         0.0\n",
              "max    6.824759e+01  3.698588e+01  ...  2.033178e+01         0.0\n",
              "\n",
              "[8 rows x 9 columns]"
            ]
          },
          "metadata": {
            "tags": []
          },
          "execution_count": 148
        }
      ]
    },
    {
      "cell_type": "code",
      "metadata": {
        "id": "opLWjgrs5tiV",
        "colab_type": "code",
        "outputId": "feda201b-be43-4d37-9df8-57960a46badd",
        "colab": {
          "base_uri": "https://localhost:8080/",
          "height": 53
        }
      },
      "source": [
        "features = ['RequestRPM', 'CurrentRPM', 'UB', 'WaterFreq', 'QCurrent2']\n",
        "X_all = normalized_df[features].values\n",
        "X1 = df1[features].values\n",
        "X2 = df2[features].values\n",
        "X3 = df3[features].values\n",
        "X4 = df4[features].values\n",
        "X5 = df5[features].values\n",
        "X6 = df6[features].values\n",
        "X7 = df7[features].values\n",
        "X8 = df8[features].values\n",
        "X9 = df9[features].values\n",
        "X10 = df10[features].values\n",
        "X11 = df11[features].values\n",
        "X12 = df12[features].values\n",
        "X13 = df13[features].values\n",
        "X14 = df14[features].values\n",
        "X15 = df15[features].values\n",
        "\n",
        "print(X_all.shape)\n",
        "print(X1.shape[0] + X2.shape[0] + X3.shape[0] + X4.shape[0] + X5.shape[0] + X6.shape[0] + X7.shape[0] + X8.shape[0] + X9.shape[0] + X10.shape[0] + X11.shape[0] + X12.shape[0] + X13.shape[0] + X14.shape[0] + X15.shape[0])"
      ],
      "execution_count": 164,
      "outputs": [
        {
          "output_type": "stream",
          "text": [
            "(11815720, 5)\n",
            "11815720\n"
          ],
          "name": "stdout"
        }
      ]
    },
    {
      "cell_type": "code",
      "metadata": {
        "id": "tKouFxnDlG0v",
        "colab_type": "code",
        "colab": {}
      },
      "source": [
        "def split_sequences(sequences, n_steps_in, n_steps_out):\n",
        "  X, y = list(), list()\n",
        "  for i in range(0,len(sequences), n_steps_in):\n",
        "    # find the end of this pattern\n",
        "    end_ix = i + n_steps_in\n",
        "    out_end_ix = end_ix + n_steps_out\n",
        "    # check if we are beyond the dataset\n",
        "    if end_ix > len(sequences):\n",
        "        print(end_ix, len(sequences))\n",
        "        break\n",
        "    # gather input and output parts of the pattern\n",
        "    seq_x, seq_y = sequences[i:end_ix, :], sequences[end_ix:end_ix, :]\n",
        "    X.append(seq_x)\n",
        "    y.append(seq_y)\n",
        "  return array(X), array(y)"
      ],
      "execution_count": 0,
      "outputs": []
    },
    {
      "cell_type": "code",
      "metadata": {
        "id": "iyKmoMKQATZY",
        "colab_type": "code",
        "outputId": "9c3319f4-af7d-4ccf-e35f-535a0efba4ad",
        "colab": {
          "base_uri": "https://localhost:8080/",
          "height": 35
        }
      },
      "source": [
        "X1_data, _ = split_sequences(X1, 140, 1)\n",
        "X2_data, _ = split_sequences(X2, 140, 1)\n",
        "X3_data, _ = split_sequences(X3, 140, 1)\n",
        "X4_data, _ = split_sequences(X4, 140, 1)\n",
        "X5_data, _ = split_sequences(X5, 140, 1)\n",
        "X6_data, _ = split_sequences(X6, 140, 1)\n",
        "X7_data, _ = split_sequences(X7, 140, 1)\n",
        "X8_data, _ = split_sequences(X8, 140, 1)\n",
        "X9_data, _ = split_sequences(X9, 140, 1)\n",
        "X10_data, _ = split_sequences(X10, 140, 1)\n",
        "X11_data, _ = split_sequences(X11, 140, 1)\n",
        "X12_data, _ = split_sequences(X12, 140, 1)\n",
        "X13_data, _ = split_sequences(X13, 140, 1)\n",
        "X14_data, _ = split_sequences(X14, 140, 1)\n",
        "X15_data, _ = split_sequences(X15, 140, 1)\n",
        "\n",
        "# X_data2 = np.vstack((X1_data, X2_data, X3_data, X4_data, X5_data, X6_data, X7_data, X8_data, X9_data, X10_data, X11_data, X12_data, X13_data, X14_data, X15_data))\n",
        "X_data, _ = split_sequences(X_all, 140, 1)\n",
        "\n",
        "# print(X1.shape[0]/140, X1_data.shape[0])\n",
        "# print(X2.shape[0]/140, X2_data.shape[0])\n",
        "# print(X3.shape[0]/140, X3_data.shape[0])\n",
        "# print(X4.shape[0]/140, X4_data.shape[0])\n",
        "# print(X5.shape[0]/140, X5_data.shape[0])\n",
        "# print(X6.shape[0]/140, X6_data.shape[0])\n",
        "# print(X7.shape[0]/140, X7_data.shape[0])\n",
        "# print(X8.shape[0]/140, X8_data.shape[0])\n",
        "# print(X9.shape[0]/140, X9_data.shape[0])\n",
        "# print(X10.shape[0]/140, X10_data.shape[0])\n",
        "# print(X11.shape[0]/140, X11_data.shape[0])\n",
        "# print(X12.shape[0]/140, X12_data.shape[0])\n",
        "# print(X13.shape[0]/140, X13_data.shape[0])\n",
        "# print(X14.shape[0]/140, X14_data.shape[0])\n",
        "# print(X15.shape[0]/140, X15_data.shape[0])\n",
        "# print(X_data2.shape, X_data.shape)\n",
        "\n",
        "# y_all = np.tile([0, 0, 0, 0, 0, 0, 0, 0, 0, 0, 0, 0, 0, 0, 1], (X_data.shape[0],1))\n",
        "\n",
        "LABELS = ['1kgTowel', 'TShirts', 'YShirts', 'WinterT200', 'WinterJumper', 'Real2', 'Real3', 'Real4', 'Jean', 'Jeanpants', 'FallJumper', 'Towel2', 'Towel3', 'Towel4', 'Hood']\n",
        "\n",
        "y1 = np.tile([0, 0, 0, 0, 0, 0, 0, 0, 0, 0, 0, 0, 0, 0, 1], (X1_data.shape[0],1))\n",
        "y2 = np.tile([0, 0, 0, 0, 0, 0, 0, 0, 0, 0, 0, 0, 0, 1, 0], (X2_data.shape[0],1))\n",
        "y3 = np.tile([0, 0, 0, 0, 0, 0, 0, 0, 0, 0, 0, 0, 1, 0, 0], (X3_data.shape[0],1))\n",
        "y4 = np.tile([0, 0, 0, 0, 0, 0, 0, 0, 0, 0, 0, 1, 0, 0, 0], (X4_data.shape[0],1))\n",
        "y5 = np.tile([0, 0, 0, 0, 0, 0, 0, 0, 0, 0, 1, 0, 0, 0, 0], (X5_data.shape[0],1))\n",
        "y6 = np.tile([0, 0, 0, 0, 0, 0, 0, 0, 0, 1, 0, 0, 0, 0, 0], (X6_data.shape[0],1))\n",
        "y7 = np.tile([0, 0, 0, 0, 0, 0, 0, 0, 1, 0, 0, 0, 0, 0, 0], (X7_data.shape[0],1))\n",
        "y8 = np.tile([0, 0, 0, 0, 0, 0, 0, 1, 0, 0, 0, 0, 0, 0, 0], (X8_data.shape[0],1))\n",
        "y9 = np.tile([0, 0, 0, 0, 0, 0, 1, 0, 0, 0, 0, 0, 0, 0, 0], (X9_data.shape[0],1))\n",
        "y10 = np.tile([0, 0, 0, 0, 0, 1, 0, 0, 0, 0, 0, 0, 0, 0, 0], (X10_data.shape[0],1))\n",
        "y11 = np.tile([0, 0, 0, 0, 1, 0, 0, 0, 0, 0, 0, 0, 0, 0, 0], (X11_data.shape[0],1))\n",
        "y12 = np.tile([0, 0, 0, 1, 0, 0, 0, 0, 0, 0, 0, 0, 0, 0, 0], (X12_data.shape[0],1))\n",
        "y13 = np.tile([0, 0, 1, 0, 0, 0, 0, 0, 0, 0, 0, 0, 0, 0, 0], (X13_data.shape[0],1))\n",
        "y14 = np.tile([0, 1, 0, 0, 0, 0, 0, 0, 0, 0, 0, 0, 0, 0, 0], (X14_data.shape[0],1))\n",
        "y15 = np.tile([1, 0, 0, 0, 0, 0, 0, 0, 0, 0, 0, 0, 0, 0, 0], (X15_data.shape[0],1))\n",
        "y = np.vstack((y1, y2, y3, y4, y5, y6, y7, y8, y9, y10, y11, y12, y13, y14, y15))\n",
        "\n",
        "import seaborn as sns\n",
        "from sklearn import metrics\n",
        "from sklearn.metrics import classification_report\n",
        "from sklearn.model_selection import train_test_split, GridSearchCV, cross_val_score \n",
        "from sklearn.preprocessing import StandardScaler\n",
        "from matplotlib import pyplot as plt\n",
        "%matplotlib inline\n",
        "\n",
        "# scaler = StandardScaler()\n",
        "# scaler.fit(X_data)\n",
        "# X_sc = scaler.transform(X_data)\n",
        "# np.mean(X_sc), np.std(X_sc)\n",
        "\n",
        "# scalers = {}\n",
        "# X_sc = np.empty_like(X_data)\n",
        "# for i in range(X_data.shape[2]):\n",
        "#     scalers[i] = StandardScaler()\n",
        "#     X_sc[:, :, i] = scalers[i].fit_transform(X_data[:, :, i]) \n",
        "\n",
        "# for i in range(X_test.shape[1]):\n",
        "    # X_test[:, i, :] = scalers[i].transform(X_test[:, i, :]) \n",
        "\n",
        "\n",
        "X_train, X_test, y_train, y_test = train_test_split(X_data, y, test_size = 0.2)\n",
        "X_data.shape, y.shape"
      ],
      "execution_count": 161,
      "outputs": [
        {
          "output_type": "execute_result",
          "data": {
            "text/plain": [
              "((84398, 140, 5), (84398, 15))"
            ]
          },
          "metadata": {
            "tags": []
          },
          "execution_count": 161
        }
      ]
    },
    {
      "cell_type": "code",
      "metadata": {
        "id": "t5imATyp5OaO",
        "colab_type": "code",
        "outputId": "cb34c76c-5a13-4c2d-9887-d5b581e77691",
        "colab": {
          "base_uri": "https://localhost:8080/",
          "height": 557
        }
      },
      "source": [
        "# define model\n",
        "model = Sequential()\n",
        "model.add(Conv1D(32, 2, activation='relu', padding='same', input_shape=(X_data.shape[1], X_data.shape[2]))) \n",
        "model.add(MaxPooling1D(2))\n",
        "model.add(Conv1D(64, 2, activation='relu', padding='same'))\n",
        "model.add(MaxPooling1D(2))\n",
        "model.add(Conv1D(128, 2, activation='relu', padding='same'))\n",
        "model.add(MaxPooling1D(2))\n",
        "model.add(Conv1D(256, 2, activation='relu', padding='same'))\n",
        "model.add(MaxPooling1D(2))\n",
        "model.add(Flatten())\n",
        "model.add(Dense(100, activation='relu'))\n",
        "model.add(Dense(15, activation='softmax'))\n",
        "#model.compile(optimizer='adam', loss='mse')\n",
        "model.compile(loss='categorical_crossentropy',\n",
        "                optimizer='adam', metrics=['accuracy'])\n",
        "model.summary()"
      ],
      "execution_count": 162,
      "outputs": [
        {
          "output_type": "stream",
          "text": [
            "Model: \"sequential_15\"\n",
            "_________________________________________________________________\n",
            "Layer (type)                 Output Shape              Param #   \n",
            "=================================================================\n",
            "conv1d_46 (Conv1D)           (None, 140, 32)           352       \n",
            "_________________________________________________________________\n",
            "max_pooling1d_46 (MaxPooling (None, 70, 32)            0         \n",
            "_________________________________________________________________\n",
            "conv1d_47 (Conv1D)           (None, 70, 64)            4160      \n",
            "_________________________________________________________________\n",
            "max_pooling1d_47 (MaxPooling (None, 35, 64)            0         \n",
            "_________________________________________________________________\n",
            "conv1d_48 (Conv1D)           (None, 35, 128)           16512     \n",
            "_________________________________________________________________\n",
            "max_pooling1d_48 (MaxPooling (None, 17, 128)           0         \n",
            "_________________________________________________________________\n",
            "conv1d_49 (Conv1D)           (None, 17, 256)           65792     \n",
            "_________________________________________________________________\n",
            "max_pooling1d_49 (MaxPooling (None, 8, 256)            0         \n",
            "_________________________________________________________________\n",
            "flatten_15 (Flatten)         (None, 2048)              0         \n",
            "_________________________________________________________________\n",
            "dense_29 (Dense)             (None, 100)               204900    \n",
            "_________________________________________________________________\n",
            "dense_30 (Dense)             (None, 15)                1515      \n",
            "=================================================================\n",
            "Total params: 293,231\n",
            "Trainable params: 293,231\n",
            "Non-trainable params: 0\n",
            "_________________________________________________________________\n"
          ],
          "name": "stdout"
        }
      ]
    },
    {
      "cell_type": "code",
      "metadata": {
        "id": "XlHDsLpnA8vS",
        "colab_type": "code",
        "outputId": "9b0e9ecc-15a1-4a80-fdf9-bbe25ccf8301",
        "colab": {
          "base_uri": "https://localhost:8080/",
          "height": 719
        }
      },
      "source": [
        "callbacks_list = [\n",
        "    keras.callbacks.ModelCheckpoint(\n",
        "        filepath='best_model.{epoch:02d}-{val_loss:.2f}.h5',\n",
        "        monitor='val_loss', save_best_only=True),\n",
        "    keras.callbacks.EarlyStopping(monitor='val_acc', patience=3)\n",
        "]\n",
        "\n",
        "BATCH_SIZE = 100\n",
        "EPOCHS = 30\n",
        "\n",
        "history = model.fit(X_train,\n",
        "                      y_train,\n",
        "                      batch_size=BATCH_SIZE,\n",
        "                      epochs=EPOCHS,\n",
        "                      callbacks=callbacks_list,\n",
        "                      validation_split=0.2,\n",
        "                      verbose=1)\n",
        "\n",
        "_, accuracy = model.evaluate(X_test, y_test, batch_size=BATCH_SIZE, verbose=1)\n",
        "\n",
        "print(accuracy)\n",
        "# demonstrate prediction\n",
        "# x_input = array([70, 80, 90])\n",
        "# x_input = x_input.reshape((1, n_steps, n_features))\n",
        "# yhat = model.predict(x_input, verbose=0)\n",
        "# print(yhat)"
      ],
      "execution_count": 163,
      "outputs": [
        {
          "output_type": "stream",
          "text": [
            "Train on 54014 samples, validate on 13504 samples\n",
            "Epoch 1/30\n",
            "54014/54014 [==============================] - 25s 454us/step - loss: 0.9963 - acc: 0.6211 - val_loss: 0.7177 - val_acc: 0.7221\n",
            "Epoch 2/30\n",
            "54014/54014 [==============================] - 23s 418us/step - loss: 0.5869 - acc: 0.7804 - val_loss: 0.5131 - val_acc: 0.8097\n",
            "Epoch 3/30\n",
            "54014/54014 [==============================] - 22s 412us/step - loss: 0.4723 - acc: 0.8223 - val_loss: 0.5097 - val_acc: 0.8081\n",
            "Epoch 4/30\n",
            "54014/54014 [==============================] - 22s 407us/step - loss: 0.4033 - acc: 0.8486 - val_loss: 0.3971 - val_acc: 0.8463\n",
            "Epoch 5/30\n",
            "54014/54014 [==============================] - 22s 416us/step - loss: 0.3603 - acc: 0.8628 - val_loss: 0.3657 - val_acc: 0.8640\n",
            "Epoch 6/30\n",
            "54014/54014 [==============================] - 22s 409us/step - loss: 0.3202 - acc: 0.8776 - val_loss: 0.3508 - val_acc: 0.8694\n",
            "Epoch 7/30\n",
            "54014/54014 [==============================] - 22s 408us/step - loss: 0.2918 - acc: 0.8885 - val_loss: 0.3343 - val_acc: 0.8757\n",
            "Epoch 8/30\n",
            "54014/54014 [==============================] - 22s 409us/step - loss: 0.2682 - acc: 0.8957 - val_loss: 0.3924 - val_acc: 0.8529\n",
            "Epoch 9/30\n",
            "54014/54014 [==============================] - 22s 414us/step - loss: 0.2563 - acc: 0.9013 - val_loss: 0.3066 - val_acc: 0.8842\n",
            "Epoch 10/30\n",
            "54014/54014 [==============================] - 22s 408us/step - loss: 0.2292 - acc: 0.9108 - val_loss: 0.3056 - val_acc: 0.8854\n",
            "Epoch 11/30\n",
            "54014/54014 [==============================] - 22s 405us/step - loss: 0.2148 - acc: 0.9161 - val_loss: 0.4854 - val_acc: 0.8264\n",
            "Epoch 12/30\n",
            "54014/54014 [==============================] - 22s 406us/step - loss: 0.2060 - acc: 0.9198 - val_loss: 0.3116 - val_acc: 0.8894\n",
            "Epoch 13/30\n",
            "54014/54014 [==============================] - 22s 406us/step - loss: 0.1809 - acc: 0.9289 - val_loss: 0.3225 - val_acc: 0.8884\n",
            "Epoch 14/30\n",
            "54014/54014 [==============================] - 22s 405us/step - loss: 0.1680 - acc: 0.9342 - val_loss: 0.3449 - val_acc: 0.8790\n",
            "Epoch 15/30\n",
            "54014/54014 [==============================] - 22s 405us/step - loss: 0.1587 - acc: 0.9378 - val_loss: 0.3179 - val_acc: 0.8931\n",
            "Epoch 16/30\n",
            "54014/54014 [==============================] - 24s 437us/step - loss: 0.1433 - acc: 0.9435 - val_loss: 0.3432 - val_acc: 0.8881\n",
            "Epoch 17/30\n",
            "54014/54014 [==============================] - 22s 408us/step - loss: 0.1381 - acc: 0.9453 - val_loss: 0.3548 - val_acc: 0.8799\n",
            "Epoch 18/30\n",
            "54014/54014 [==============================] - 22s 408us/step - loss: 0.1240 - acc: 0.9510 - val_loss: 0.3621 - val_acc: 0.8862\n",
            "16880/16880 [==============================] - 2s 116us/step\n",
            "0.893127960333892\n"
          ],
          "name": "stdout"
        }
      ]
    },
    {
      "cell_type": "code",
      "metadata": {
        "id": "90OiTPLWGSup",
        "colab_type": "code",
        "outputId": "86319964-43bb-41e2-952a-5a31d9a17497",
        "colab": {
          "base_uri": "https://localhost:8080/",
          "height": 295
        }
      },
      "source": [
        "plt.figure(figsize=(6, 4))\n",
        "plt.plot(history.history['acc'], 'r', label='Accuracy of training data')\n",
        "plt.plot(history.history['val_acc'], 'b', label='Accuracy of validation data')\n",
        "plt.plot(history.history['loss'], 'r--', label='Loss of training data')\n",
        "plt.plot(history.history['val_loss'], 'b--', label='Loss of validation data')\n",
        "plt.title('Model Accuracy and Loss')\n",
        "plt.ylabel('Accuracy and Loss')\n",
        "plt.xlabel('Training Epoch')\n",
        "plt.ylim(0)\n",
        "plt.legend()\n",
        "plt.show()"
      ],
      "execution_count": 165,
      "outputs": [
        {
          "output_type": "display_data",
          "data": {
            "image/png": "[encoded data removed]",
            "text/plain": [
              "<Figure size 432x288 with 1 Axes>"
            ]
          },
          "metadata": {
            "tags": []
          }
        }
      ]
    },
    {
      "cell_type": "code",
      "metadata": {
        "id": "myhA1GNCGqwT",
        "colab_type": "code",
        "colab": {}
      },
      "source": [
        "def show_confusion_matrix(validations, predictions):\n",
        "\n",
        "    matrix = metrics.confusion_matrix(validations, predictions)\n",
        "    plt.figure(figsize=(12, 8))\n",
        "    \n",
        "    sns.heatmap(matrix,\n",
        "                cmap='coolwarm',\n",
        "                linecolor='white',\n",
        "                linewidths=1,\n",
        "                xticklabels=LABELS,\n",
        "                yticklabels=LABELS,\n",
        "                annot=True,\n",
        "                fmt='d')\n",
        "    plt.title('Confusion Matrix')\n",
        "    plt.ylabel('True Label')\n",
        "    plt.xlabel('Predicted Label')\n",
        "    \n",
        "    # fix for mpl bug that cuts off top/bottom of seaborn viz\n",
        "    b, t = plt.ylim() # discover the values for bottom and top\n",
        "    b += 0.5 # Add 0.5 to the bottom\n",
        "    t -= 0.5 # Subtract 0.5 from the top\n",
        "    plt.ylim(b, t) # update the ylim(bottom, top) values\n",
        "    \n",
        "    plt.show()"
      ],
      "execution_count": 0,
      "outputs": []
    },
    {
      "cell_type": "code",
      "metadata": {
        "id": "zMgJkvq7GyZF",
        "colab_type": "code",
        "outputId": "41744260-108c-4830-eef8-e73a894a4675",
        "colab": {
          "base_uri": "https://localhost:8080/",
          "height": 967
        }
      },
      "source": [
        "y_pred_test = model.predict(X_test)\n",
        "max_y_pred_test = np.argmax(y_pred_test, axis=1)\n",
        "max_y_test = np.argmax(y_test, axis=1)\n",
        "show_confusion_matrix(max_y_test, max_y_pred_test)\n",
        "print(classification_report(max_y_test, max_y_pred_test))"
      ],
      "execution_count": 167,
      "outputs": [
        {
          "output_type": "display_data",
          "data": {
            "image/png": "[encoded data removed]",
            "text/plain": [
              "<Figure size 864x576 with 2 Axes>"
            ]
          },
          "metadata": {
            "tags": []
          }
        },
        {
          "output_type": "stream",
          "text": [
            "              precision    recall  f1-score   support\n",
            "\n",
            "           0       0.85      0.75      0.79      1138\n",
            "           1       1.00      0.99      0.99      1053\n",
            "           2       0.91      0.96      0.94      1668\n",
            "           3       0.87      0.87      0.87      1682\n",
            "           4       0.98      0.87      0.92       402\n",
            "           5       0.79      0.87      0.83      1168\n",
            "           6       0.90      0.79      0.84       993\n",
            "           7       1.00      1.00      1.00       979\n",
            "           8       0.96      0.94      0.95      1645\n",
            "           9       0.77      0.92      0.84      1157\n",
            "          10       0.89      0.99      0.93       406\n",
            "          11       0.94      0.87      0.91      1094\n",
            "          12       0.73      0.79      0.76       528\n",
            "          13       0.86      0.82      0.84      1191\n",
            "          14       0.94      0.91      0.93      1776\n",
            "\n",
            "    accuracy                           0.89     16880\n",
            "   macro avg       0.89      0.89      0.89     16880\n",
            "weighted avg       0.90      0.89      0.89     16880\n",
            "\n"
          ],
          "name": "stdout"
        }
      ]
    },
    {
      "cell_type": "code",
      "metadata": {
        "id": "hIKpwGQO4FtL",
        "colab_type": "code",
        "colab": {}
      },
      "source": [
        "#print(X_data[X1_data.shape[0]].reshape(1, 140, 5))\n",
        "print(y[3].reshape(1, 1, 15))\n",
        "for i in range(X_data.shape[0]):\n",
        "  x_input = X_data[i].reshape(1, 140, 5)\n",
        "  yhat = model.predict(x_input, verbose=0)\n",
        "  print([ \"{:0.2f}\".format(x) for x in yhat[0] ])"
      ],
      "execution_count": 0,
      "outputs": []
    },
    {
      "cell_type": "code",
      "metadata": {
        "id": "xNYGvIWxwOry",
        "colab_type": "code",
        "colab": {}
      },
      "source": [
        "from google.colab import files\n",
        "files.upload()"
      ],
      "execution_count": 0,
      "outputs": []
    },
    {
      "cell_type": "markdown",
      "metadata": {
        "id": "UmG8y0T8-UrT",
        "colab_type": "text"
      },
      "source": [
        "Normalization 할 것\n",
        "\n",
        "Conv1D를 32 64 128 과 같은 방식으로\n",
        "\n",
        "Dense Layer 이전을 100정도로, 삭제 하는것이 용량 아낌이 좋음\n",
        "\n",
        "비슷한 Feature에 대해서 묶어 주면 Accuracy 상승 가능\n"
      ]
    }
  ]
}