{
  "nbformat": 4,
  "nbformat_minor": 0,
  "metadata": {
    "colab": {
      "name": "StillWork.ipynb",
      "provenance": [],
      "machine_shape": "hm",
      "include_colab_link": true
    },
    "kernelspec": {
      "name": "python3",
      "display_name": "Python 3"
    }
  },
  "cells": [
    {
      "cell_type": "markdown",
      "metadata": {
        "id": "view-in-github",
        "colab_type": "text"
      },
      "source": [
        "<a href=\"https://colab.research.google.com/github/makkolli31/StillWork/blob/master/StillWork.ipynb\" target=\"_parent\"><img src=\"https://colab.research.google.com/assets/colab-badge.svg\" alt=\"Open In Colab\"/></a>"
      ]
    },
    {
      "cell_type": "code",
      "metadata": {
        "id": "yUP9HS6rM4he",
        "colab_type": "code",
        "outputId": "378c9bc2-ace7-4321-ee17-de085a1ba39e",
        "colab": {
          "base_uri": "https://localhost:8080/",
          "height": 82
        }
      },
      "source": [
        "# univariate cnn example\n",
        "from numpy import array\n",
        "import keras\n",
        "from keras.models import Sequential\n",
        "from keras.layers import Dense\n",
        "from keras.layers import Flatten\n",
        "from keras.layers.convolutional import Conv1D\n",
        "from keras.layers.convolutional import MaxPooling1D\n",
        "from keras.layers import BatchNormalization\n",
        "import pandas as pd\n",
        "import numpy as np\n"
      ],
      "execution_count": 4,
      "outputs": [
        {
          "output_type": "stream",
          "text": [
            "Using TensorFlow backend.\n"
          ],
          "name": "stderr"
        },
        {
          "output_type": "display_data",
          "data": {
            "text/html": [
              "<p style=\"color: red;\">\n",
              "The default version of TensorFlow in Colab will soon switch to TensorFlow 2.x.<br>\n",
              "We recommend you <a href=\"https://www.tensorflow.org/guide/migrate\" target=\"_blank\">upgrade</a> now \n",
              "or ensure your notebook will continue to use TensorFlow 1.x via the <code>%tensorflow_version 1.x</code> magic:\n",
              "<a href=\"https://colab.research.google.com/notebooks/tensorflow_version.ipynb\" target=\"_blank\">more info</a>.</p>\n"
            ],
            "text/plain": [
              "<IPython.core.display.HTML object>"
            ]
          },
          "metadata": {
            "tags": []
          }
        }
      ]
    },
    {
      "cell_type": "code",
      "metadata": {
        "id": "z8Snp_345X9U",
        "colab_type": "code",
        "outputId": "56d9fc64-dff4-4842-8387-7a51f146544d",
        "colab": {
          "base_uri": "https://localhost:8080/",
          "height": 297
        }
      },
      "source": [
        "#col_names_new = ['RequestRPM', 'CurrentRPM','WaterFreq', 'vibX', 'vibY', 'vibZ', 'UB', 'QCurrent2', 'RinseStep']\n",
        "#df = pd.read_csv(\"/content/drive/My Drive/StillWork/V600_no01_1kgTowel_C3_HIGH_20190611_01_001.txt1_Extract.txt\", sep=' ', header=None)\n",
        "#df.columns = col_names_new\n",
        "df1 = pd.read_csv(\"/content/drive/My Drive/StillWork/1kgTowel_Extract.txt\", sep=' ')\n",
        "df2 = pd.read_csv(\"/content/drive/My Drive/StillWork/T셔츠_Extract.txt\", sep=' ')\n",
        "df3 = pd.read_csv(\"/content/drive/My Drive/StillWork/Y셔츠_Extract.txt\", sep=' ')\n",
        "df4 = pd.read_csv(\"/content/drive/My Drive/StillWork/동1타200_Extract.txt\", sep=' ')\n",
        "df5 = pd.read_csv(\"/content/drive/My Drive/StillWork/동잠바_Extract.txt\", sep=' ')\n",
        "df6 = pd.read_csv(\"/content/drive/My Drive/StillWork/실용2_Extract.txt\", sep=' ')\n",
        "df7 = pd.read_csv(\"/content/drive/My Drive/StillWork/실용3_Extract.txt\", sep=' ')\n",
        "df8 = pd.read_csv(\"/content/drive/My Drive/StillWork/실용4_Extract.txt\", sep=' ')\n",
        "df9 = pd.read_csv(\"/content/drive/My Drive/StillWork/청바지_Extract.txt\", sep=' ')\n",
        "df10 = pd.read_csv(\"/content/drive/My Drive/StillWork/청팬티_Extract.txt\", sep=' ')\n",
        "df11 = pd.read_csv(\"/content/drive/My Drive/StillWork/추잠바_Extract.txt\", sep=' ')\n",
        "df12 = pd.read_csv(\"/content/drive/My Drive/StillWork/타월2_Extract.txt\", sep=' ')\n",
        "df13 = pd.read_csv(\"/content/drive/My Drive/StillWork/타월3_Extract.txt\", sep=' ')\n",
        "df14 = pd.read_csv(\"/content/drive/My Drive/StillWork/타월4_Extract.txt\", sep=' ')\n",
        "df15 = pd.read_csv(\"/content/drive/My Drive/StillWork/후드티_Extract.txt\", sep=' ')\n",
        "\n",
        "df_data = pd.concat([df1, df2, df3, df4, df5, df6, df7, df8, df9, df10, df11, df12, df13, df14, df15], axis=0)\n",
        "\n",
        "normalized_df=(df_data-df_data.mean())/df_data.std()\n",
        "\n",
        "#with pd.option_context('display.float_format', '{:0.2f}'.format):\n",
        "normalized_df.describe()"
      ],
      "execution_count": 52,
      "outputs": [
        {
          "output_type": "execute_result",
          "data": {
            "text/html": [
              "<div>\n",
              "<style scoped>\n",
              "    .dataframe tbody tr th:only-of-type {\n",
              "        vertical-align: middle;\n",
              "    }\n",
              "\n",
              "    .dataframe tbody tr th {\n",
              "        vertical-align: top;\n",
              "    }\n",
              "\n",
              "    .dataframe thead th {\n",
              "        text-align: right;\n",
              "    }\n",
              "</style>\n",
              "<table border=\"1\" class=\"dataframe\">\n",
              "  <thead>\n",
              "    <tr style=\"text-align: right;\">\n",
              "      <th></th>\n",
              "      <th>RequestRPM</th>\n",
              "      <th>CurrentRPM</th>\n",
              "      <th>WaterFreq</th>\n",
              "      <th>vibX</th>\n",
              "      <th>vibY</th>\n",
              "      <th>vibZ</th>\n",
              "      <th>UB</th>\n",
              "      <th>QCurrent2</th>\n",
              "      <th>RinseStep</th>\n",
              "    </tr>\n",
              "  </thead>\n",
              "  <tbody>\n",
              "    <tr>\n",
              "      <th>count</th>\n",
              "      <td>1.181652e+07</td>\n",
              "      <td>1.181652e+07</td>\n",
              "      <td>1.181652e+07</td>\n",
              "      <td>1.181652e+07</td>\n",
              "      <td>1.181652e+07</td>\n",
              "      <td>1.181652e+07</td>\n",
              "      <td>1.181652e+07</td>\n",
              "      <td>1.181652e+07</td>\n",
              "      <td>11816515.0</td>\n",
              "    </tr>\n",
              "    <tr>\n",
              "      <th>mean</th>\n",
              "      <td>3.189036e-13</td>\n",
              "      <td>5.908448e-14</td>\n",
              "      <td>2.137302e-13</td>\n",
              "      <td>-2.876929e-15</td>\n",
              "      <td>6.714504e-14</td>\n",
              "      <td>7.054715e-15</td>\n",
              "      <td>-7.590911e-14</td>\n",
              "      <td>4.598316e-14</td>\n",
              "      <td>0.0</td>\n",
              "    </tr>\n",
              "    <tr>\n",
              "      <th>std</th>\n",
              "      <td>1.000000e+00</td>\n",
              "      <td>1.000000e+00</td>\n",
              "      <td>1.000000e+00</td>\n",
              "      <td>1.000000e+00</td>\n",
              "      <td>1.000000e+00</td>\n",
              "      <td>1.000000e+00</td>\n",
              "      <td>1.000000e+00</td>\n",
              "      <td>1.000000e+00</td>\n",
              "      <td>0.0</td>\n",
              "    </tr>\n",
              "    <tr>\n",
              "      <th>min</th>\n",
              "      <td>-2.539674e+00</td>\n",
              "      <td>-3.680870e+00</td>\n",
              "      <td>-2.587669e+01</td>\n",
              "      <td>-1.314598e+00</td>\n",
              "      <td>-7.503960e-01</td>\n",
              "      <td>-6.187454e-01</td>\n",
              "      <td>-6.328058e-01</td>\n",
              "      <td>-1.908099e+00</td>\n",
              "      <td>0.0</td>\n",
              "    </tr>\n",
              "    <tr>\n",
              "      <th>25%</th>\n",
              "      <td>-2.272638e-02</td>\n",
              "      <td>-6.037502e-02</td>\n",
              "      <td>-2.848223e-01</td>\n",
              "      <td>-6.314063e-01</td>\n",
              "      <td>-4.132162e-01</td>\n",
              "      <td>-3.143256e-01</td>\n",
              "      <td>-4.616686e-01</td>\n",
              "      <td>-7.062616e-01</td>\n",
              "      <td>0.0</td>\n",
              "    </tr>\n",
              "    <tr>\n",
              "      <th>50%</th>\n",
              "      <td>-2.272638e-02</td>\n",
              "      <td>1.922177e-01</td>\n",
              "      <td>5.044230e-02</td>\n",
              "      <td>-2.789659e-01</td>\n",
              "      <td>-2.764244e-01</td>\n",
              "      <td>-1.982214e-01</td>\n",
              "      <td>-3.437741e-01</td>\n",
              "      <td>-1.939740e-01</td>\n",
              "      <td>0.0</td>\n",
              "    </tr>\n",
              "    <tr>\n",
              "      <th>75%</th>\n",
              "      <td>-2.272638e-02</td>\n",
              "      <td>3.606128e-01</td>\n",
              "      <td>2.739521e-01</td>\n",
              "      <td>2.903608e-01</td>\n",
              "      <td>-3.163903e-02</td>\n",
              "      <td>1.421352e-03</td>\n",
              "      <td>-1.022805e-01</td>\n",
              "      <td>5.239378e-01</td>\n",
              "      <td>0.0</td>\n",
              "    </tr>\n",
              "    <tr>\n",
              "      <th>max</th>\n",
              "      <td>6.824947e+01</td>\n",
              "      <td>3.698655e+01</td>\n",
              "      <td>1.726765e+00</td>\n",
              "      <td>3.340349e+01</td>\n",
              "      <td>1.992797e+01</td>\n",
              "      <td>2.755495e+01</td>\n",
              "      <td>5.499438e+01</td>\n",
              "      <td>2.033121e+01</td>\n",
              "      <td>0.0</td>\n",
              "    </tr>\n",
              "  </tbody>\n",
              "</table>\n",
              "</div>"
            ],
            "text/plain": [
              "         RequestRPM    CurrentRPM  ...     QCurrent2   RinseStep\n",
              "count  1.181652e+07  1.181652e+07  ...  1.181652e+07  11816515.0\n",
              "mean   3.189036e-13  5.908448e-14  ...  4.598316e-14         0.0\n",
              "std    1.000000e+00  1.000000e+00  ...  1.000000e+00         0.0\n",
              "min   -2.539674e+00 -3.680870e+00  ... -1.908099e+00         0.0\n",
              "25%   -2.272638e-02 -6.037502e-02  ... -7.062616e-01         0.0\n",
              "50%   -2.272638e-02  1.922177e-01  ... -1.939740e-01         0.0\n",
              "75%   -2.272638e-02  3.606128e-01  ...  5.239378e-01         0.0\n",
              "max    6.824947e+01  3.698655e+01  ...  2.033121e+01         0.0\n",
              "\n",
              "[8 rows x 9 columns]"
            ]
          },
          "metadata": {
            "tags": []
          },
          "execution_count": 52
        }
      ]
    },
    {
      "cell_type": "code",
      "metadata": {
        "id": "opLWjgrs5tiV",
        "colab_type": "code",
        "outputId": "10ac17a8-46c5-4fbd-b963-01f26fe99253",
        "colab": {
          "base_uri": "https://localhost:8080/",
          "height": 107
        }
      },
      "source": [
        "# features = ['CurrentRPM', 'vibX', 'vibY', 'vibZ', 'UB']\n",
        "features = ['CurrentRPM']\n",
        "X_all = normalized_df[features].values\n",
        "X1 = df1[features].values\n",
        "X2 = df2[features].values\n",
        "X3 = df3[features].values\n",
        "X4 = df4[features].values\n",
        "X5 = df5[features].values\n",
        "X6 = df6[features].values\n",
        "X7 = df7[features].values\n",
        "X8 = df8[features].values\n",
        "X9 = df9[features].values\n",
        "X10 = df10[features].values\n",
        "X11 = df11[features].values\n",
        "X12 = df12[features].values\n",
        "X13 = df13[features].values\n",
        "X14 = df14[features].values\n",
        "X15 = df15[features].values\n",
        "# X = np.vstack((X,df[['RequestRPM', 'vibX']].values))\n",
        "# X = np.vstack((X,df[['RequestRPM', 'vibX']].values))\n",
        "# X = np.vstack((X,df[['RequestRPM', 'vibX']].values))\n",
        "# X = np.row_stack([X, df[['RequestRPM', 'vibX']].values])\n",
        "\n",
        "print(X_all.shape)\n",
        "print(X_all[:4])"
      ],
      "execution_count": 55,
      "outputs": [
        {
          "output_type": "stream",
          "text": [
            "(11816515, 1)\n",
            "[[-3.59667278]\n",
            " [-3.42827765]\n",
            " [-3.25988252]\n",
            " [-2.67049956]]\n"
          ],
          "name": "stdout"
        }
      ]
    },
    {
      "cell_type": "code",
      "metadata": {
        "id": "tKouFxnDlG0v",
        "colab_type": "code",
        "colab": {}
      },
      "source": [
        "def split_sequences(sequences, n_steps_in, n_steps_out):\n",
        "  X, y = list(), list()\n",
        "  for i in range(0,len(sequences), n_steps_in):\n",
        "    # find the end of this pattern\n",
        "    end_ix = i + n_steps_in\n",
        "    out_end_ix = end_ix + n_steps_out\n",
        "    # check if we are beyond the dataset\n",
        "    if out_end_ix > len(sequences):\n",
        "        break\n",
        "    # gather input and output parts of the pattern\n",
        "    seq_x, seq_y = sequences[i:end_ix, :], sequences[end_ix:out_end_ix, :]\n",
        "    X.append(seq_x)\n",
        "    y.append(seq_y)\n",
        "  return array(X), array(y)"
      ],
      "execution_count": 0,
      "outputs": []
    },
    {
      "cell_type": "code",
      "metadata": {
        "id": "iyKmoMKQATZY",
        "colab_type": "code",
        "outputId": "b5a64d18-2afa-435b-c2de-1a4eb5d94f28",
        "colab": {
          "base_uri": "https://localhost:8080/",
          "height": 35
        }
      },
      "source": [
        "X1_data, _ = split_sequences(X1, 140, 1)\n",
        "X2_data, _ = split_sequences(X2, 140, 1)\n",
        "X3_data, _ = split_sequences(X3, 140, 1)\n",
        "X4_data, _ = split_sequences(X4, 140, 1)\n",
        "X5_data, _ = split_sequences(X5, 140, 1)\n",
        "X6_data, _ = split_sequences(X6, 140, 1)\n",
        "X7_data, _ = split_sequences(X7, 140, 1)\n",
        "X8_data, _ = split_sequences(X8, 140, 1)\n",
        "X9_data, _ = split_sequences(X9, 140, 1)\n",
        "X10_data, _ = split_sequences(X10, 140, 1)\n",
        "X11_data, _ = split_sequences(X11, 140, 1)\n",
        "X12_data, _ = split_sequences(X12, 140, 1)\n",
        "X13_data, _ = split_sequences(X13, 140, 1)\n",
        "X14_data, _ = split_sequences(X14, 140, 1)\n",
        "X15_data, _ = split_sequences(X15, 140, 1)\n",
        "#n_features = X.shape[1]\n",
        "# X_data = X.reshape(-1, X.shape[0], X.shape[1])\n",
        "\n",
        "X_data2 = np.vstack((X1_data, X2_data, X3_data, X4_data, X5_data, X6_data, X7_data, X8_data, X9_data, X10_data, X11_data, X12_data, X13_data, X14_data, X15_data))\n",
        "X_data, _ = split_sequences(X_all, 140, 1)\n",
        "X_data = X_data[:-8]\n",
        "\n",
        "# y_all = np.tile([0, 0, 0, 0, 0, 0, 0, 0, 0, 0, 0, 0, 0, 0, 1], (X_data.shape[0],1))\n",
        "\n",
        "LABELS = ['1kgTowel', 'TShirts', 'YShirts', 'dong1ta200', 'winter', 'real2', 'real3', 'real4', 'jean', 'jeanpants', 'fall', 'towel2', 'towel3', 'towel4', 'hood']\n",
        "\n",
        "y1 = np.tile([0, 0, 0, 0, 0, 0, 0, 0, 0, 0, 0, 0, 0, 0, 1], (X1_data.shape[0],1))\n",
        "y2 = np.tile([0, 0, 0, 0, 0, 0, 0, 0, 0, 0, 0, 0, 0, 1, 0], (X2_data.shape[0],1))\n",
        "y3 = np.tile([0, 0, 0, 0, 0, 0, 0, 0, 0, 0, 0, 0, 1, 0, 0], (X3_data.shape[0],1))\n",
        "y4 = np.tile([0, 0, 0, 0, 0, 0, 0, 0, 0, 0, 0, 1, 0, 0, 0], (X4_data.shape[0],1))\n",
        "y5 = np.tile([0, 0, 0, 0, 0, 0, 0, 0, 0, 0, 1, 0, 0, 0, 0], (X5_data.shape[0],1))\n",
        "y6 = np.tile([0, 0, 0, 0, 0, 0, 0, 0, 0, 1, 0, 0, 0, 0, 0], (X6_data.shape[0],1))\n",
        "y7 = np.tile([0, 0, 0, 0, 0, 0, 0, 0, 1, 0, 0, 0, 0, 0, 0], (X7_data.shape[0],1))\n",
        "y8 = np.tile([0, 0, 0, 0, 0, 0, 0, 1, 0, 0, 0, 0, 0, 0, 0], (X8_data.shape[0],1))\n",
        "y9 = np.tile([0, 0, 0, 0, 0, 0, 1, 0, 0, 0, 0, 0, 0, 0, 0], (X9_data.shape[0],1))\n",
        "y10 = np.tile([0, 0, 0, 0, 0, 1, 0, 0, 0, 0, 0, 0, 0, 0, 0], (X10_data.shape[0],1))\n",
        "y11 = np.tile([0, 0, 0, 0, 1, 0, 0, 0, 0, 0, 0, 0, 0, 0, 0], (X11_data.shape[0],1))\n",
        "y12 = np.tile([0, 0, 0, 1, 0, 0, 0, 0, 0, 0, 0, 0, 0, 0, 0], (X12_data.shape[0],1))\n",
        "y13 = np.tile([0, 0, 1, 0, 0, 0, 0, 0, 0, 0, 0, 0, 0, 0, 0], (X13_data.shape[0],1))\n",
        "y14 = np.tile([0, 1, 0, 0, 0, 0, 0, 0, 0, 0, 0, 0, 0, 0, 0], (X14_data.shape[0],1))\n",
        "y15 = np.tile([1, 0, 0, 0, 0, 0, 0, 0, 0, 0, 0, 0, 0, 0, 0], (X15_data.shape[0],1))\n",
        "y = np.vstack((y1, y2, y3, y4, y5, y6, y7, y8, y9, y10, y11, y12, y13, y14, y15))\n",
        "\n",
        "\n",
        "#print(X1_data[:10])\n",
        "#print(X1_data.shape, y1.shape)\n",
        "#print(X2_data.shape, y2.shape)\n",
        "#print(X_data.shape, y.shape)\n",
        "\n",
        "import seaborn as sns\n",
        "from sklearn import metrics\n",
        "from sklearn.metrics import classification_report\n",
        "from sklearn.model_selection import train_test_split, GridSearchCV, cross_val_score \n",
        "from sklearn.preprocessing import StandardScaler\n",
        "from matplotlib import pyplot as plt\n",
        "%matplotlib inline\n",
        "\n",
        "# X_data.shape\n",
        "\n",
        "# scaler = StandardScaler()\n",
        "# scaler.fit(X_data)\n",
        "# X_sc = scaler.transform(X_data)\n",
        "# np.mean(X_sc), np.std(X_sc)\n",
        "\n",
        "# scalers = {}\n",
        "# X_sc = np.empty_like(X_data)\n",
        "# for i in range(X_data.shape[2]):\n",
        "#     scalers[i] = StandardScaler()\n",
        "#     X_sc[:, :, i] = scalers[i].fit_transform(X_data[:, :, i]) \n",
        "\n",
        "# for i in range(X_test.shape[1]):\n",
        "    # X_test[:, i, :] = scalers[i].transform(X_test[:, i, :]) \n",
        "\n",
        "\n",
        "X_train, X_test, y_train, y_test = train_test_split(X_data, y, test_size = 0.2)\n",
        "X_data.shape, y.shape\n",
        "# X_train.shape , y_train.shape\n",
        "# np.mean(X_sc[:,:,0]), np.std(X_sc[:,:,0])\n",
        "# np.mean(X_data[:,:,0]), np.std(X_data[:,:,0])\n",
        "#for i in range(1):\n",
        "    #print(X_data[i], y[i])\n",
        "    #print(X_data[X1_data.shape[0]], y[X1_data.shape[0]])"
      ],
      "execution_count": 81,
      "outputs": [
        {
          "output_type": "execute_result",
          "data": {
            "text/plain": [
              "((84395, 140, 1), (84395, 15))"
            ]
          },
          "metadata": {
            "tags": []
          },
          "execution_count": 81
        }
      ]
    },
    {
      "cell_type": "code",
      "metadata": {
        "id": "t5imATyp5OaO",
        "colab_type": "code",
        "outputId": "66624db6-71ab-4cff-f1f9-0232cf0583e2",
        "colab": {
          "base_uri": "https://localhost:8080/",
          "height": 521
        }
      },
      "source": [
        "# define model\n",
        "model = Sequential()\n",
        "model.add(Conv1D(128, 2, activation='relu', padding='same', input_shape=(X_data.shape[1], X_data.shape[2]))) \n",
        "model.add(BatchNormalization())\n",
        "model.add(MaxPooling1D(2))\n",
        "model.add(Conv1D(128, 2, activation='relu', padding='same'))\n",
        "model.add(MaxPooling1D(2))\n",
        "model.add(Conv1D(128, 2, activation='relu', padding='same'))\n",
        "model.add(MaxPooling1D(5))\n",
        "model.add(Flatten())\n",
        "model.add(Dense(100, activation='relu'))\n",
        "model.add(Dense(15, activation='softmax'))\n",
        "#model.compile(optimizer='adam', loss='mse')\n",
        "model.compile(loss='categorical_crossentropy',\n",
        "                optimizer='adam', metrics=['accuracy'])\n",
        "model.summary()"
      ],
      "execution_count": 72,
      "outputs": [
        {
          "output_type": "stream",
          "text": [
            "Model: \"sequential_8\"\n",
            "_________________________________________________________________\n",
            "Layer (type)                 Output Shape              Param #   \n",
            "=================================================================\n",
            "conv1d_23 (Conv1D)           (None, 140, 128)          384       \n",
            "_________________________________________________________________\n",
            "batch_normalization_8 (Batch (None, 140, 128)          512       \n",
            "_________________________________________________________________\n",
            "max_pooling1d_23 (MaxPooling (None, 70, 128)           0         \n",
            "_________________________________________________________________\n",
            "conv1d_24 (Conv1D)           (None, 70, 128)           32896     \n",
            "_________________________________________________________________\n",
            "max_pooling1d_24 (MaxPooling (None, 35, 128)           0         \n",
            "_________________________________________________________________\n",
            "conv1d_25 (Conv1D)           (None, 35, 128)           32896     \n",
            "_________________________________________________________________\n",
            "max_pooling1d_25 (MaxPooling (None, 7, 128)            0         \n",
            "_________________________________________________________________\n",
            "flatten_8 (Flatten)          (None, 896)               0         \n",
            "_________________________________________________________________\n",
            "dense_15 (Dense)             (None, 100)               89700     \n",
            "_________________________________________________________________\n",
            "dense_16 (Dense)             (None, 15)                1515      \n",
            "=================================================================\n",
            "Total params: 157,903\n",
            "Trainable params: 157,647\n",
            "Non-trainable params: 256\n",
            "_________________________________________________________________\n"
          ],
          "name": "stdout"
        }
      ]
    },
    {
      "cell_type": "code",
      "metadata": {
        "id": "XlHDsLpnA8vS",
        "colab_type": "code",
        "outputId": "200adb9e-aa45-42a3-8501-fee56fa7386c",
        "colab": {
          "base_uri": "https://localhost:8080/",
          "height": 503
        }
      },
      "source": [
        "callbacks_list = [\n",
        "    keras.callbacks.ModelCheckpoint(\n",
        "        filepath='best_model.{epoch:02d}-{val_loss:.2f}.h5',\n",
        "        monitor='val_loss', save_best_only=True),\n",
        "    keras.callbacks.EarlyStopping(monitor='val_acc', patience=3)\n",
        "]\n",
        "\n",
        "BATCH_SIZE = 30\n",
        "EPOCHS = 30\n",
        "\n",
        "history = model.fit(X_train,\n",
        "                      y_train,\n",
        "                      batch_size=BATCH_SIZE,\n",
        "                      epochs=EPOCHS,\n",
        "                      callbacks=callbacks_list,\n",
        "                      validation_split=0.2,\n",
        "                      verbose=1)\n",
        "\n",
        "_, accuracy = model.evaluate(X_test, y_test, batch_size=BATCH_SIZE, verbose=1)\n",
        "\n",
        "print(accuracy)\n",
        "# demonstrate prediction\n",
        "# x_input = array([70, 80, 90])\n",
        "# x_input = x_input.reshape((1, n_steps, n_features))\n",
        "# yhat = model.predict(x_input, verbose=0)\n",
        "# print(yhat)"
      ],
      "execution_count": 73,
      "outputs": [
        {
          "output_type": "stream",
          "text": [
            "Train on 54012 samples, validate on 13504 samples\n",
            "Epoch 1/30\n",
            "54012/54012 [==============================] - 60s 1ms/step - loss: 1.2080 - acc: 0.5718 - val_loss: 0.9959 - val_acc: 0.6469\n",
            "Epoch 2/30\n",
            "54012/54012 [==============================] - 59s 1ms/step - loss: 0.8248 - acc: 0.7057 - val_loss: 0.8186 - val_acc: 0.7025\n",
            "Epoch 3/30\n",
            "54012/54012 [==============================] - 60s 1ms/step - loss: 0.6875 - acc: 0.7514 - val_loss: 0.6674 - val_acc: 0.7604\n",
            "Epoch 4/30\n",
            "54012/54012 [==============================] - 59s 1ms/step - loss: 0.6072 - acc: 0.7805 - val_loss: 0.6352 - val_acc: 0.7694\n",
            "Epoch 5/30\n",
            "54012/54012 [==============================] - 59s 1ms/step - loss: 0.5507 - acc: 0.7997 - val_loss: 0.6465 - val_acc: 0.7681\n",
            "Epoch 6/30\n",
            "54012/54012 [==============================] - 61s 1ms/step - loss: 0.5103 - acc: 0.8121 - val_loss: 0.5882 - val_acc: 0.7831\n",
            "Epoch 7/30\n",
            "54012/54012 [==============================] - 59s 1ms/step - loss: 0.4706 - acc: 0.8254 - val_loss: 0.5814 - val_acc: 0.7877\n",
            "Epoch 8/30\n",
            "54012/54012 [==============================] - 58s 1ms/step - loss: 0.4356 - acc: 0.8386 - val_loss: 0.7330 - val_acc: 0.7357\n",
            "Epoch 9/30\n",
            "54012/54012 [==============================] - 58s 1ms/step - loss: 0.4170 - acc: 0.8433 - val_loss: 0.5848 - val_acc: 0.7918\n",
            "Epoch 10/30\n",
            "54012/54012 [==============================] - 59s 1ms/step - loss: 0.3843 - acc: 0.8556 - val_loss: 0.6175 - val_acc: 0.7856\n",
            "Epoch 11/30\n",
            "54012/54012 [==============================] - 58s 1ms/step - loss: 0.3650 - acc: 0.8637 - val_loss: 0.6184 - val_acc: 0.7867\n",
            "Epoch 12/30\n",
            "54012/54012 [==============================] - 58s 1ms/step - loss: 0.3433 - acc: 0.8710 - val_loss: 0.7456 - val_acc: 0.7621\n",
            "16879/16879 [==============================] - 6s 328us/step\n",
            "0.7684696949349668\n"
          ],
          "name": "stdout"
        }
      ]
    },
    {
      "cell_type": "code",
      "metadata": {
        "id": "90OiTPLWGSup",
        "colab_type": "code",
        "outputId": "056c76fc-d976-48a0-b25e-aa0c324cc0c0",
        "colab": {
          "base_uri": "https://localhost:8080/",
          "height": 295
        }
      },
      "source": [
        "plt.figure(figsize=(6, 4))\n",
        "plt.plot(history.history['acc'], 'r', label='Accuracy of training data')\n",
        "plt.plot(history.history['val_acc'], 'b', label='Accuracy of validation data')\n",
        "plt.plot(history.history['loss'], 'r--', label='Loss of training data')\n",
        "plt.plot(history.history['val_loss'], 'b--', label='Loss of validation data')\n",
        "plt.title('Model Accuracy and Loss')\n",
        "plt.ylabel('Accuracy and Loss')\n",
        "plt.xlabel('Training Epoch')\n",
        "plt.ylim(0)\n",
        "plt.legend()\n",
        "plt.show()"
      ],
      "execution_count": 74,
      "outputs": [
        {
          "output_type": "display_data",
          "data": {
            "image/png": "[encoded data removed]",
            "text/plain": [
              "<Figure size 432x288 with 1 Axes>"
            ]
          },
          "metadata": {
            "tags": []
          }
        }
      ]
    },
    {
      "cell_type": "code",
      "metadata": {
        "id": "myhA1GNCGqwT",
        "colab_type": "code",
        "colab": {}
      },
      "source": [
        "def show_confusion_matrix(validations, predictions):\n",
        "\n",
        "    matrix = metrics.confusion_matrix(validations, predictions)\n",
        "    plt.figure(figsize=(12, 8))\n",
        "    \n",
        "    sns.heatmap(matrix,\n",
        "                cmap='coolwarm',\n",
        "                linecolor='white',\n",
        "                linewidths=1,\n",
        "                xticklabels=LABELS,\n",
        "                yticklabels=LABELS,\n",
        "                annot=True,\n",
        "                fmt='d')\n",
        "    plt.title('Confusion Matrix')\n",
        "    plt.ylabel('True Label')\n",
        "    plt.xlabel('Predicted Label')\n",
        "    \n",
        "    # fix for mpl bug that cuts off top/bottom of seaborn viz\n",
        "    b, t = plt.ylim() # discover the values for bottom and top\n",
        "    b += 0.5 # Add 0.5 to the bottom\n",
        "    t -= 0.5 # Subtract 0.5 from the top\n",
        "    plt.ylim(b, t) # update the ylim(bottom, top) values\n",
        "    \n",
        "    plt.show()"
      ],
      "execution_count": 0,
      "outputs": []
    },
    {
      "cell_type": "code",
      "metadata": {
        "id": "zMgJkvq7GyZF",
        "colab_type": "code",
        "outputId": "1d092378-a5c3-4b65-9078-fc6b1517a94f",
        "colab": {
          "base_uri": "https://localhost:8080/",
          "height": 959
        }
      },
      "source": [
        "y_pred_test = model.predict(X_test)\n",
        "max_y_pred_test = np.argmax(y_pred_test, axis=1)\n",
        "max_y_test = np.argmax(y_test, axis=1)\n",
        "show_confusion_matrix(max_y_test, max_y_pred_test)\n",
        "print(classification_report(max_y_test, max_y_pred_test))"
      ],
      "execution_count": 82,
      "outputs": [
        {
          "output_type": "display_data",
          "data": {
            "image/png": "[encoded data removed]",
            "text/plain": [
              "<Figure size 864x576 with 2 Axes>"
            ]
          },
          "metadata": {
            "tags": []
          }
        },
        {
          "output_type": "stream",
          "text": [
            "              precision    recall  f1-score   support\n",
            "\n",
            "           0       0.59      0.62      0.60      1100\n",
            "           1       0.94      1.00      0.97      1043\n",
            "           2       0.89      0.76      0.82      1716\n",
            "           3       0.85      0.73      0.78      1763\n",
            "           4       1.00      1.00      1.00       426\n",
            "           5       0.63      0.77      0.69      1155\n",
            "           6       0.75      0.70      0.72      1033\n",
            "           7       0.99      1.00      1.00      1004\n",
            "           8       0.78      0.95      0.86      1589\n",
            "           9       0.84      0.78      0.81      1133\n",
            "          10       0.99      1.00      0.99       394\n",
            "          11       0.91      0.93      0.92      1143\n",
            "          12       0.76      0.34      0.47       513\n",
            "          13       0.74      0.87      0.80      1175\n",
            "          14       0.85      0.83      0.84      1692\n",
            "\n",
            "    accuracy                           0.82     16879\n",
            "   macro avg       0.83      0.82      0.82     16879\n",
            "weighted avg       0.82      0.82      0.82     16879\n",
            "\n"
          ],
          "name": "stdout"
        }
      ]
    },
    {
      "cell_type": "code",
      "metadata": {
        "id": "hIKpwGQO4FtL",
        "colab_type": "code",
        "colab": {}
      },
      "source": [
        "#print(X_data[X1_data.shape[0]].reshape(1, 140, 5))\n",
        "print(y[3].reshape(1, 1, 15))\n",
        "for i in range(X_data.shape[0]):\n",
        "  x_input = X_data[i].reshape(1, 140, 5)\n",
        "  yhat = model.predict(x_input, verbose=0)\n",
        "  print([ \"{:0.2f}\".format(x) for x in yhat[0] ])"
      ],
      "execution_count": 0,
      "outputs": []
    },
    {
      "cell_type": "code",
      "metadata": {
        "id": "xNYGvIWxwOry",
        "colab_type": "code",
        "colab": {
          "resources": {
            "http://localhost:8080/nbextensions/google.colab/files.js": {
              "data": "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",
              "ok": true,
              "headers": [
                [
                  "content-type",
                  "application/javascript"
                ]
              ],
              "status": 200,
              "status_text": ""
            }
          },
          "base_uri": "https://localhost:8080/",
          "height": 377
        },
        "outputId": "4c2f1018-d4e5-493b-98b3-3775bd1b15d8"
      },
      "source": [
        "from google.colab import files\n",
        "files.upload()"
      ],
      "execution_count": 3,
      "outputs": [
        {
          "output_type": "display_data",
          "data": {
            "text/html": [
              "\n",
              "     <input type=\"file\" id=\"files-0e8e945c-b996-4962-91f7-0b6a89c155b2\" name=\"files[]\" multiple disabled />\n",
              "     <output id=\"result-0e8e945c-b996-4962-91f7-0b6a89c155b2\">\n",
              "      Upload widget is only available when the cell has been executed in the\n",
              "      current browser session. Please rerun this cell to enable.\n",
              "      </output>\n",
              "      <script src=\"/nbextensions/google.colab/files.js\"></script> "
            ],
            "text/plain": [
              "<IPython.core.display.HTML object>"
            ]
          },
          "metadata": {
            "tags": []
          }
        },
        {
          "output_type": "stream",
          "text": [
            "Saving V600_no01_Hood_C3_HIGH_20190624_01_001.txt to V600_no01_Hood_C3_HIGH_20190624_01_001 (1).txt\n"
          ],
          "name": "stdout"
        },
        {
          "output_type": "error",
          "ename": "KeyboardInterrupt",
          "evalue": "ignored",
          "traceback": [
            "\u001b[0;31m---------------------------------------------------------------------------\u001b[0m",
            "\u001b[0;31mKeyboardInterrupt\u001b[0m                         Traceback (most recent call last)",
            "\u001b[0;32m<ipython-input-3-5c2e8a8d365b>\u001b[0m in \u001b[0;36m<module>\u001b[0;34m()\u001b[0m\n\u001b[1;32m      1\u001b[0m \u001b[0;32mfrom\u001b[0m \u001b[0mgoogle\u001b[0m\u001b[0;34m.\u001b[0m\u001b[0mcolab\u001b[0m \u001b[0;32mimport\u001b[0m \u001b[0mfiles\u001b[0m\u001b[0;34m\u001b[0m\u001b[0;34m\u001b[0m\u001b[0m\n\u001b[0;32m----> 2\u001b[0;31m \u001b[0mfiles\u001b[0m\u001b[0;34m.\u001b[0m\u001b[0mupload\u001b[0m\u001b[0;34m(\u001b[0m\u001b[0;34m)\u001b[0m\u001b[0;34m\u001b[0m\u001b[0;34m\u001b[0m\u001b[0m\n\u001b[0m",
            "\u001b[0;32m/usr/local/lib/python3.6/dist-packages/google/colab/files.py\u001b[0m in \u001b[0;36mupload\u001b[0;34m()\u001b[0m\n\u001b[1;32m     86\u001b[0m       print('Saving {filename} to {local_filename}'.format(\n\u001b[1;32m     87\u001b[0m           filename=filename, local_filename=local_filename))\n\u001b[0;32m---> 88\u001b[0;31m     \u001b[0;32mwith\u001b[0m \u001b[0mopen\u001b[0m\u001b[0;34m(\u001b[0m\u001b[0mlocal_filename\u001b[0m\u001b[0;34m,\u001b[0m \u001b[0;34m'ab'\u001b[0m\u001b[0;34m)\u001b[0m \u001b[0;32mas\u001b[0m \u001b[0mf\u001b[0m\u001b[0;34m:\u001b[0m\u001b[0;34m\u001b[0m\u001b[0;34m\u001b[0m\u001b[0m\n\u001b[0m\u001b[1;32m     89\u001b[0m       \u001b[0mf\u001b[0m\u001b[0;34m.\u001b[0m\u001b[0mwrite\u001b[0m\u001b[0;34m(\u001b[0m\u001b[0mdata\u001b[0m\u001b[0;34m)\u001b[0m\u001b[0;34m\u001b[0m\u001b[0;34m\u001b[0m\u001b[0m\n\u001b[1;32m     90\u001b[0m \u001b[0;34m\u001b[0m\u001b[0m\n",
            "\u001b[0;31mKeyboardInterrupt\u001b[0m: "
          ]
        }
      ]
    },
    {
      "cell_type": "markdown",
      "metadata": {
        "id": "UmG8y0T8-UrT",
        "colab_type": "text"
      },
      "source": [
        "Normalization 할 것\n",
        "\n",
        "Conv1D를 32 64 128 과 같은 방식으로\n",
        "\n",
        "Dense Layer 이전을 100정도로, 삭제 하는것이 용량 아낌이 좋음\n",
        "\n",
        "비슷한 Feature에 대해서 묶어 주면 Accuracy 상승 가능\n"
      ]
    }
  ]
}